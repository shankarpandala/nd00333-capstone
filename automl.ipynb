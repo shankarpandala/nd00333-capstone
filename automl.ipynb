{
  "cells": [
    {
      "cell_type": "markdown",
      "source": [
        "# Automated ML\n",
        "\n",
        "TODO: Import Dependencies. In the cell below, import all the dependencies that you will need to complete the project."
      ],
      "metadata": {}
    },
    {
      "cell_type": "code",
      "source": [],
      "outputs": [],
      "execution_count": null,
      "metadata": {
        "gather": {
          "logged": 1598423888013
        },
        "jupyter": {
          "outputs_hidden": false,
          "source_hidden": false
        },
        "nteract": {
          "transient": {
            "deleting": false
          }
        }
      }
    },
    {
      "cell_type": "markdown",
      "source": [
        "## Dataset\n",
        "\n",
        "### Overview\n",
        "Predicting the  price of the used bmw cars based on transmission, mileage, fuel type, road tax, miles per gallon (mpg), and engine size\n",
        "\n",
        "Dataset is gathered from https://www.kaggle.com/adityadesai13/used-car-dataset-ford-and-mercedes?select=bmw.csv"
      ],
      "metadata": {}
    },
    {
      "cell_type": "code",
      "source": [
        "import azureml.core\r\n",
        "from azureml.core.compute import ComputeTarget, AmlCompute\r\n",
        "from azureml.core.compute_target import ComputeTargetException\r\n",
        "from azureml.core.dataset import Dataset\r\n",
        "from azureml.core.workspace import Workspace\r\n",
        "from azureml.core import Experiment, Webservice, Model\r\n",
        "from azureml.train.automl import AutoMLConfig\r\n",
        "from azureml.widgets import RunDetails\r\n",
        "from azureml.core.environment import Environment\r\n",
        "from azureml.core.model import InferenceConfig\r\n",
        "from azureml.core.webservice import AciWebservice\r\n",
        "\r\n",
        "\r\n",
        "import pandas as pd\r\n",
        "import sklearn\r\n",
        "import json\r\n",
        "\r\n",
        "# Check core SDK version number\r\n",
        "print(\"SDK version:\", azureml.core.VERSION)"
      ],
      "outputs": [
        {
          "output_type": "stream",
          "name": "stdout",
          "text": [
            "SDK version: 1.20.0\n"
          ]
        }
      ],
      "execution_count": 1,
      "metadata": {
        "collapsed": true,
        "jupyter": {
          "source_hidden": false,
          "outputs_hidden": false
        },
        "nteract": {
          "transient": {
            "deleting": false
          }
        },
        "gather": {
          "logged": 1614230955537
        }
      }
    },
    {
      "cell_type": "code",
      "source": [
        "ws = Workspace.from_config()\n",
        "\n",
        "# choose a name for experiment\n",
        "experiment_name = 'bmw_exp'\n",
        "\n",
        "experiment=Experiment(ws, experiment_name)\n",
        "experiment"
      ],
      "outputs": [
        {
          "output_type": "execute_result",
          "execution_count": 2,
          "data": {
            "text/plain": "Experiment(Name: bmw_exp,\nWorkspace: ud-ws)",
            "text/html": "<table style=\"width:100%\"><tr><th>Name</th><th>Workspace</th><th>Report Page</th><th>Docs Page</th></tr><tr><td>bmw_exp</td><td>ud-ws</td><td><a href=\"https://ml.azure.com/experiments/bmw_exp?wsid=/subscriptions/d7a31e64-085f-42e0-bb3e-c1135731e46a/resourcegroups/ud-rg/workspaces/ud-ws\" target=\"_blank\" rel=\"noopener\">Link to Azure Machine Learning studio</a></td><td><a href=\"https://docs.microsoft.com/en-us/python/api/azureml-core/azureml.core.experiment.Experiment?view=azure-ml-py\" target=\"_blank\" rel=\"noopener\">Link to Documentation</a></td></tr></table>"
          },
          "metadata": {}
        }
      ],
      "execution_count": 2,
      "metadata": {
        "gather": {
          "logged": 1614230958465
        },
        "jupyter": {
          "outputs_hidden": false,
          "source_hidden": false
        },
        "nteract": {
          "transient": {
            "deleting": false
          }
        }
      }
    },
    {
      "cell_type": "code",
      "source": [
        "cluster_name=\"ud-cluster\"\r\n",
        "\r\n",
        "try:\r\n",
        "    cpu_cluster=ComputeTarget(workspace=ws, name=cluster_name)\r\n",
        "    print(\"Existing cluster detected, make use of it!\")\r\n",
        "except ComputeTargetException:\r\n",
        "    print(\"New compute cluster creation in progress...\")\r\n",
        "    compute_config = AmlCompute.provisioning_configuration(vm_size='Standard_D2_V2',max_nodes=4)\r\n",
        "    cpu_cluster = ComputeTarget.create(ws, cluster_name, compute_config)   \r\n",
        "    \r\n",
        "cpu_cluster.wait_for_completion(show_output=True)         \r\n",
        "print(\"Cluster is ready\")"
      ],
      "outputs": [
        {
          "output_type": "stream",
          "name": "stdout",
          "text": [
            "Existing cluster detected, make use of it!\n",
            "Succeeded\n",
            "AmlCompute wait for completion finished\n",
            "\n",
            "Minimum number of nodes requested have been provisioned\n",
            "Cluster is ready\n"
          ]
        }
      ],
      "execution_count": 3,
      "metadata": {
        "collapsed": true,
        "jupyter": {
          "source_hidden": false,
          "outputs_hidden": false
        },
        "nteract": {
          "transient": {
            "deleting": false
          }
        },
        "gather": {
          "logged": 1614230958837
        }
      }
    },
    {
      "cell_type": "markdown",
      "source": [
        "## Dataset"
      ],
      "metadata": {
        "nteract": {
          "transient": {
            "deleting": false
          }
        }
      }
    },
    {
      "cell_type": "code",
      "source": [
        "from azureml.core import Dataset\r\n",
        "dataset_name = 'bmw_cars'\r\n",
        "\r\n",
        "# Get a dataset by name\r\n",
        "bmw_cars = Dataset.get_by_name(workspace=ws, name=dataset_name)\r\n",
        "\r\n",
        "# Load a TabularDataset into pandas DataFrame\r\n",
        "df = bmw_cars.to_pandas_dataframe()\r\n",
        "df.head()"
      ],
      "outputs": [
        {
          "output_type": "execute_result",
          "execution_count": 4,
          "data": {
            "text/plain": "       model  year  price transmission  mileage fuelType  tax   mpg  \\\n0   5 Series  2014  11200    Automatic    67068   Diesel  125  57.6   \n1   6 Series  2018  27000    Automatic    14827   Petrol  145  42.8   \n2   5 Series  2016  16000    Automatic    62794   Diesel  160  51.4   \n3   1 Series  2017  12750    Automatic    26676   Diesel  145  72.4   \n4   7 Series  2014  14500    Automatic    39554   Diesel  160  50.4   \n\n   engineSize  \n0         2.0  \n1         2.0  \n2         3.0  \n3         1.5  \n4         3.0  ",
            "text/html": "<div>\n<style scoped>\n    .dataframe tbody tr th:only-of-type {\n        vertical-align: middle;\n    }\n\n    .dataframe tbody tr th {\n        vertical-align: top;\n    }\n\n    .dataframe thead th {\n        text-align: right;\n    }\n</style>\n<table border=\"1\" class=\"dataframe\">\n  <thead>\n    <tr style=\"text-align: right;\">\n      <th></th>\n      <th>model</th>\n      <th>year</th>\n      <th>price</th>\n      <th>transmission</th>\n      <th>mileage</th>\n      <th>fuelType</th>\n      <th>tax</th>\n      <th>mpg</th>\n      <th>engineSize</th>\n    </tr>\n  </thead>\n  <tbody>\n    <tr>\n      <th>0</th>\n      <td>5 Series</td>\n      <td>2014</td>\n      <td>11200</td>\n      <td>Automatic</td>\n      <td>67068</td>\n      <td>Diesel</td>\n      <td>125</td>\n      <td>57.6</td>\n      <td>2.0</td>\n    </tr>\n    <tr>\n      <th>1</th>\n      <td>6 Series</td>\n      <td>2018</td>\n      <td>27000</td>\n      <td>Automatic</td>\n      <td>14827</td>\n      <td>Petrol</td>\n      <td>145</td>\n      <td>42.8</td>\n      <td>2.0</td>\n    </tr>\n    <tr>\n      <th>2</th>\n      <td>5 Series</td>\n      <td>2016</td>\n      <td>16000</td>\n      <td>Automatic</td>\n      <td>62794</td>\n      <td>Diesel</td>\n      <td>160</td>\n      <td>51.4</td>\n      <td>3.0</td>\n    </tr>\n    <tr>\n      <th>3</th>\n      <td>1 Series</td>\n      <td>2017</td>\n      <td>12750</td>\n      <td>Automatic</td>\n      <td>26676</td>\n      <td>Diesel</td>\n      <td>145</td>\n      <td>72.4</td>\n      <td>1.5</td>\n    </tr>\n    <tr>\n      <th>4</th>\n      <td>7 Series</td>\n      <td>2014</td>\n      <td>14500</td>\n      <td>Automatic</td>\n      <td>39554</td>\n      <td>Diesel</td>\n      <td>160</td>\n      <td>50.4</td>\n      <td>3.0</td>\n    </tr>\n  </tbody>\n</table>\n</div>"
          },
          "metadata": {}
        }
      ],
      "execution_count": 4,
      "metadata": {
        "collapsed": true,
        "jupyter": {
          "source_hidden": false,
          "outputs_hidden": false
        },
        "nteract": {
          "transient": {
            "deleting": false
          }
        },
        "gather": {
          "logged": 1614230966079
        }
      }
    },
    {
      "cell_type": "markdown",
      "source": [
        "## AutoML Configuration\n",
        "Choosen normalized_root_mean_squared_error as the primary metric as this is a regression problem.\n"
      ],
      "metadata": {}
    },
    {
      "cell_type": "code",
      "source": [
        "automl_settings = {\n",
        "    \"experiment_timeout_minutes\": 30,\n",
        "    \"max_concurrent_iterations\": 10,\n",
        "    \"primary_metric\" : 'normalized_root_mean_squared_error',\n",
        "    \"n_cross_validations\": 5\n",
        "}\n",
        "automl_config = AutoMLConfig(compute_target=cluster_name,\n",
        "                             task = \"regression\",\n",
        "                             training_data=bmw_cars,\n",
        "                             label_column_name=\"price\", \n",
        "                             enable_early_stopping= True,\n",
        "                             featurization= 'auto',\n",
        "                             enable_voting_ensemble= True,\n",
        "                             **automl_settings\n",
        "                            )"
      ],
      "outputs": [],
      "execution_count": 5,
      "metadata": {
        "gather": {
          "logged": 1614230966315
        },
        "jupyter": {
          "outputs_hidden": false,
          "source_hidden": false
        },
        "nteract": {
          "transient": {
            "deleting": false
          }
        }
      }
    },
    {
      "cell_type": "code",
      "source": [
        "# TODO: Submit your experiment\n",
        "remote_run = experiment.submit(automl_config)"
      ],
      "outputs": [
        {
          "output_type": "stream",
          "name": "stdout",
          "text": [
            "Running on remote.\n"
          ]
        }
      ],
      "execution_count": 6,
      "metadata": {
        "gather": {
          "logged": 1614230972295
        },
        "jupyter": {
          "outputs_hidden": false,
          "source_hidden": false
        },
        "nteract": {
          "transient": {
            "deleting": false
          }
        }
      }
    },
    {
      "cell_type": "markdown",
      "source": [
        "## Run Details\n",
        "\n",
        "OPTIONAL: Write about the different models trained and their performance. Why do you think some models did better than others?\n",
        "\n",
        "TODO: In the cell below, use the `RunDetails` widget to show the different experiments."
      ],
      "metadata": {}
    },
    {
      "cell_type": "code",
      "source": [
        "RunDetails(remote_run).show()\r\n",
        "remote_run.wait_for_completion(show_output=True)"
      ],
      "outputs": [
        {
          "output_type": "display_data",
          "data": {
            "text/plain": "_AutoMLWidget(widget_settings={'childWidgetDisplay': 'popup', 'send_telemetry': False, 'log_level': 'INFO', 's…",
            "application/vnd.jupyter.widget-view+json": {
              "version_major": 2,
              "version_minor": 0,
              "model_id": "482a77d929354f9589fe22d62b202919"
            }
          },
          "metadata": {}
        },
        {
          "output_type": "display_data",
          "data": {
            "application/aml.mini.widget.v1": "{\"status\": \"Completed\", \"workbench_run_details_uri\": \"https://ml.azure.com/experiments/bmw_exp/runs/AutoML_cf4c789a-3d8b-4af3-833e-10cdec390694?wsid=/subscriptions/d7a31e64-085f-42e0-bb3e-c1135731e46a/resourcegroups/ud-rg/workspaces/ud-ws\", \"run_id\": \"AutoML_cf4c789a-3d8b-4af3-833e-10cdec390694\", \"run_properties\": {\"run_id\": \"AutoML_cf4c789a-3d8b-4af3-833e-10cdec390694\", \"created_utc\": \"2021-02-25T05:29:29.679046Z\", \"properties\": {\"num_iterations\": \"1000\", \"training_type\": \"TrainFull\", \"acquisition_function\": \"EI\", \"primary_metric\": \"normalized_root_mean_squared_error\", \"train_split\": \"0\", \"acquisition_parameter\": \"0\", \"num_cross_validation\": \"5\", \"target\": \"ud-cluster\", \"AMLSettingsJsonString\": \"{\\\"path\\\":null,\\\"name\\\":\\\"bmw_exp\\\",\\\"subscription_id\\\":\\\"d7a31e64-085f-42e0-bb3e-c1135731e46a\\\",\\\"resource_group\\\":\\\"ud-rg\\\",\\\"workspace_name\\\":\\\"ud-ws\\\",\\\"region\\\":\\\"westus2\\\",\\\"compute_target\\\":\\\"ud-cluster\\\",\\\"spark_service\\\":null,\\\"azure_service\\\":\\\"remote\\\",\\\"many_models\\\":false,\\\"pipeline_fetch_max_batch_size\\\":1,\\\"iterations\\\":1000,\\\"primary_metric\\\":\\\"normalized_root_mean_squared_error\\\",\\\"task_type\\\":\\\"regression\\\",\\\"data_script\\\":null,\\\"validation_size\\\":0.0,\\\"n_cross_validations\\\":5,\\\"y_min\\\":null,\\\"y_max\\\":null,\\\"num_classes\\\":null,\\\"featurization\\\":\\\"auto\\\",\\\"_ignore_package_version_incompatibilities\\\":false,\\\"is_timeseries\\\":false,\\\"max_cores_per_iteration\\\":1,\\\"max_concurrent_iterations\\\":10,\\\"iteration_timeout_minutes\\\":null,\\\"mem_in_mb\\\":null,\\\"enforce_time_on_windows\\\":false,\\\"experiment_timeout_minutes\\\":30,\\\"experiment_exit_score\\\":null,\\\"whitelist_models\\\":null,\\\"blacklist_algos\\\":[\\\"TensorFlowDNN\\\",\\\"TensorFlowLinearRegressor\\\"],\\\"supported_models\\\":[\\\"ExtremeRandomTrees\\\",\\\"TensorFlowDNN\\\",\\\"SGD\\\",\\\"FastLinearRegressor\\\",\\\"KNN\\\",\\\"GradientBoosting\\\",\\\"OnlineGradientDescentRegressor\\\",\\\"XGBoostRegressor\\\",\\\"ElasticNet\\\",\\\"DecisionTree\\\",\\\"LightGBM\\\",\\\"LassoLars\\\",\\\"RandomForest\\\",\\\"TensorFlowLinearRegressor\\\"],\\\"auto_blacklist\\\":true,\\\"blacklist_samples_reached\\\":false,\\\"exclude_nan_labels\\\":true,\\\"verbosity\\\":20,\\\"_debug_log\\\":\\\"azureml_automl.log\\\",\\\"show_warnings\\\":false,\\\"model_explainability\\\":true,\\\"service_url\\\":null,\\\"sdk_url\\\":null,\\\"sdk_packages\\\":null,\\\"enable_onnx_compatible_models\\\":false,\\\"enable_split_onnx_featurizer_estimator_models\\\":false,\\\"vm_type\\\":\\\"STANDARD_D1_V2\\\",\\\"telemetry_verbosity\\\":20,\\\"send_telemetry\\\":true,\\\"enable_dnn\\\":false,\\\"scenario\\\":\\\"SDK-1.13.0\\\",\\\"environment_label\\\":null,\\\"force_text_dnn\\\":false,\\\"enable_feature_sweeping\\\":true,\\\"enable_early_stopping\\\":true,\\\"early_stopping_n_iters\\\":10,\\\"metrics\\\":null,\\\"enable_ensembling\\\":true,\\\"enable_stack_ensembling\\\":true,\\\"ensemble_iterations\\\":15,\\\"enable_tf\\\":false,\\\"enable_subsampling\\\":null,\\\"subsample_seed\\\":null,\\\"enable_nimbusml\\\":false,\\\"enable_streaming\\\":false,\\\"force_streaming\\\":false,\\\"track_child_runs\\\":true,\\\"allowed_private_models\\\":[],\\\"label_column_name\\\":\\\"price\\\",\\\"weight_column_name\\\":null,\\\"cv_split_column_names\\\":null,\\\"enable_local_managed\\\":false,\\\"_local_managed_run_id\\\":null,\\\"cost_mode\\\":1,\\\"lag_length\\\":0,\\\"metric_operation\\\":\\\"minimize\\\",\\\"preprocess\\\":true}\", \"DataPrepJsonString\": \"{\\\\\\\"training_data\\\\\\\": \\\\\\\"{\\\\\\\\\\\\\\\"blocks\\\\\\\\\\\\\\\": [{\\\\\\\\\\\\\\\"id\\\\\\\\\\\\\\\": \\\\\\\\\\\\\\\"11a81cd4-8904-4b77-b28a-006460fb70ad\\\\\\\\\\\\\\\", \\\\\\\\\\\\\\\"type\\\\\\\\\\\\\\\": \\\\\\\\\\\\\\\"Microsoft.DPrep.GetDatastoreFilesBlock\\\\\\\\\\\\\\\", \\\\\\\\\\\\\\\"arguments\\\\\\\\\\\\\\\": {\\\\\\\\\\\\\\\"datastores\\\\\\\\\\\\\\\": [{\\\\\\\\\\\\\\\"datastoreName\\\\\\\\\\\\\\\": \\\\\\\\\\\\\\\"workspaceblobstore\\\\\\\\\\\\\\\", \\\\\\\\\\\\\\\"path\\\\\\\\\\\\\\\": \\\\\\\\\\\\\\\"UI/02-23-2021_055511_UTC/bmw.csv\\\\\\\\\\\\\\\", \\\\\\\\\\\\\\\"resourceGroup\\\\\\\\\\\\\\\": \\\\\\\\\\\\\\\"ud-rg\\\\\\\\\\\\\\\", \\\\\\\\\\\\\\\"subscription\\\\\\\\\\\\\\\": \\\\\\\\\\\\\\\"d7a31e64-085f-42e0-bb3e-c1135731e46a\\\\\\\\\\\\\\\", \\\\\\\\\\\\\\\"workspaceName\\\\\\\\\\\\\\\": \\\\\\\\\\\\\\\"ud-ws\\\\\\\\\\\\\\\"}]}, \\\\\\\\\\\\\\\"localData\\\\\\\\\\\\\\\": {}, \\\\\\\\\\\\\\\"isEnabled\\\\\\\\\\\\\\\": true, \\\\\\\\\\\\\\\"name\\\\\\\\\\\\\\\": null, \\\\\\\\\\\\\\\"annotation\\\\\\\\\\\\\\\": null}, {\\\\\\\\\\\\\\\"id\\\\\\\\\\\\\\\": \\\\\\\\\\\\\\\"1170b32b-b6ee-420f-a6f6-b70c29d914ec\\\\\\\\\\\\\\\", \\\\\\\\\\\\\\\"type\\\\\\\\\\\\\\\": \\\\\\\\\\\\\\\"Microsoft.DPrep.ParseDelimitedBlock\\\\\\\\\\\\\\\", \\\\\\\\\\\\\\\"arguments\\\\\\\\\\\\\\\": {\\\\\\\\\\\\\\\"columnHeadersMode\\\\\\\\\\\\\\\": 1, \\\\\\\\\\\\\\\"fileEncoding\\\\\\\\\\\\\\\": 0, \\\\\\\\\\\\\\\"handleQuotedLineBreaks\\\\\\\\\\\\\\\": false, \\\\\\\\\\\\\\\"preview\\\\\\\\\\\\\\\": false, \\\\\\\\\\\\\\\"separator\\\\\\\\\\\\\\\": \\\\\\\\\\\\\\\",\\\\\\\\\\\\\\\", \\\\\\\\\\\\\\\"skipRows\\\\\\\\\\\\\\\": 0, \\\\\\\\\\\\\\\"skipRowsMode\\\\\\\\\\\\\\\": 0}, \\\\\\\\\\\\\\\"localData\\\\\\\\\\\\\\\": {}, \\\\\\\\\\\\\\\"isEnabled\\\\\\\\\\\\\\\": true, \\\\\\\\\\\\\\\"name\\\\\\\\\\\\\\\": null, \\\\\\\\\\\\\\\"annotation\\\\\\\\\\\\\\\": null}, {\\\\\\\\\\\\\\\"id\\\\\\\\\\\\\\\": \\\\\\\\\\\\\\\"46e1c43a-ef71-4a7f-98a4-7c6f45f1b6fd\\\\\\\\\\\\\\\", \\\\\\\\\\\\\\\"type\\\\\\\\\\\\\\\": \\\\\\\\\\\\\\\"Microsoft.DPrep.DropColumnsBlock\\\\\\\\\\\\\\\", \\\\\\\\\\\\\\\"arguments\\\\\\\\\\\\\\\": {\\\\\\\\\\\\\\\"columns\\\\\\\\\\\\\\\": {\\\\\\\\\\\\\\\"type\\\\\\\\\\\\\\\": 0, \\\\\\\\\\\\\\\"details\\\\\\\\\\\\\\\": {\\\\\\\\\\\\\\\"selectedColumns\\\\\\\\\\\\\\\": [\\\\\\\\\\\\\\\"Path\\\\\\\\\\\\\\\"]}}}, \\\\\\\\\\\\\\\"localData\\\\\\\\\\\\\\\": {}, \\\\\\\\\\\\\\\"isEnabled\\\\\\\\\\\\\\\": true, \\\\\\\\\\\\\\\"name\\\\\\\\\\\\\\\": null, \\\\\\\\\\\\\\\"annotation\\\\\\\\\\\\\\\": null}, {\\\\\\\\\\\\\\\"id\\\\\\\\\\\\\\\": \\\\\\\\\\\\\\\"f768a626-2f3b-4763-b15c-efe24cd9c609\\\\\\\\\\\\\\\", \\\\\\\\\\\\\\\"type\\\\\\\\\\\\\\\": \\\\\\\\\\\\\\\"Microsoft.DPrep.SetColumnTypesBlock\\\\\\\\\\\\\\\", \\\\\\\\\\\\\\\"arguments\\\\\\\\\\\\\\\": {\\\\\\\\\\\\\\\"columnConversion\\\\\\\\\\\\\\\": [{\\\\\\\\\\\\\\\"column\\\\\\\\\\\\\\\": {\\\\\\\\\\\\\\\"type\\\\\\\\\\\\\\\": 2, \\\\\\\\\\\\\\\"details\\\\\\\\\\\\\\\": {\\\\\\\\\\\\\\\"selectedColumn\\\\\\\\\\\\\\\": \\\\\\\\\\\\\\\"Path\\\\\\\\\\\\\\\"}}, \\\\\\\\\\\\\\\"typeProperty\\\\\\\\\\\\\\\": 0}, {\\\\\\\\\\\\\\\"column\\\\\\\\\\\\\\\": {\\\\\\\\\\\\\\\"type\\\\\\\\\\\\\\\": 2, \\\\\\\\\\\\\\\"details\\\\\\\\\\\\\\\": {\\\\\\\\\\\\\\\"selectedColumn\\\\\\\\\\\\\\\": \\\\\\\\\\\\\\\"model\\\\\\\\\\\\\\\"}}, \\\\\\\\\\\\\\\"typeProperty\\\\\\\\\\\\\\\": 0}, {\\\\\\\\\\\\\\\"column\\\\\\\\\\\\\\\": {\\\\\\\\\\\\\\\"type\\\\\\\\\\\\\\\": 2, \\\\\\\\\\\\\\\"details\\\\\\\\\\\\\\\": {\\\\\\\\\\\\\\\"selectedColumn\\\\\\\\\\\\\\\": \\\\\\\\\\\\\\\"year\\\\\\\\\\\\\\\"}}, \\\\\\\\\\\\\\\"typeProperty\\\\\\\\\\\\\\\": 2}, {\\\\\\\\\\\\\\\"column\\\\\\\\\\\\\\\": {\\\\\\\\\\\\\\\"type\\\\\\\\\\\\\\\": 2, \\\\\\\\\\\\\\\"details\\\\\\\\\\\\\\\": {\\\\\\\\\\\\\\\"selectedColumn\\\\\\\\\\\\\\\": \\\\\\\\\\\\\\\"price\\\\\\\\\\\\\\\"}}, \\\\\\\\\\\\\\\"typeProperty\\\\\\\\\\\\\\\": 2}, {\\\\\\\\\\\\\\\"column\\\\\\\\\\\\\\\": {\\\\\\\\\\\\\\\"type\\\\\\\\\\\\\\\": 2, \\\\\\\\\\\\\\\"details\\\\\\\\\\\\\\\": {\\\\\\\\\\\\\\\"selectedColumn\\\\\\\\\\\\\\\": \\\\\\\\\\\\\\\"transmission\\\\\\\\\\\\\\\"}}, \\\\\\\\\\\\\\\"typeProperty\\\\\\\\\\\\\\\": 0}, {\\\\\\\\\\\\\\\"column\\\\\\\\\\\\\\\": {\\\\\\\\\\\\\\\"type\\\\\\\\\\\\\\\": 2, \\\\\\\\\\\\\\\"details\\\\\\\\\\\\\\\": {\\\\\\\\\\\\\\\"selectedColumn\\\\\\\\\\\\\\\": \\\\\\\\\\\\\\\"mileage\\\\\\\\\\\\\\\"}}, \\\\\\\\\\\\\\\"typeProperty\\\\\\\\\\\\\\\": 2}, {\\\\\\\\\\\\\\\"column\\\\\\\\\\\\\\\": {\\\\\\\\\\\\\\\"type\\\\\\\\\\\\\\\": 2, \\\\\\\\\\\\\\\"details\\\\\\\\\\\\\\\": {\\\\\\\\\\\\\\\"selectedColumn\\\\\\\\\\\\\\\": \\\\\\\\\\\\\\\"fuelType\\\\\\\\\\\\\\\"}}, \\\\\\\\\\\\\\\"typeProperty\\\\\\\\\\\\\\\": 0}, {\\\\\\\\\\\\\\\"column\\\\\\\\\\\\\\\": {\\\\\\\\\\\\\\\"type\\\\\\\\\\\\\\\": 2, \\\\\\\\\\\\\\\"details\\\\\\\\\\\\\\\": {\\\\\\\\\\\\\\\"selectedColumn\\\\\\\\\\\\\\\": \\\\\\\\\\\\\\\"tax\\\\\\\\\\\\\\\"}}, \\\\\\\\\\\\\\\"typeProperty\\\\\\\\\\\\\\\": 2}, {\\\\\\\\\\\\\\\"column\\\\\\\\\\\\\\\": {\\\\\\\\\\\\\\\"type\\\\\\\\\\\\\\\": 2, \\\\\\\\\\\\\\\"details\\\\\\\\\\\\\\\": {\\\\\\\\\\\\\\\"selectedColumn\\\\\\\\\\\\\\\": \\\\\\\\\\\\\\\"mpg\\\\\\\\\\\\\\\"}}, \\\\\\\\\\\\\\\"typeProperty\\\\\\\\\\\\\\\": 3}, {\\\\\\\\\\\\\\\"column\\\\\\\\\\\\\\\": {\\\\\\\\\\\\\\\"type\\\\\\\\\\\\\\\": 2, \\\\\\\\\\\\\\\"details\\\\\\\\\\\\\\\": {\\\\\\\\\\\\\\\"selectedColumn\\\\\\\\\\\\\\\": \\\\\\\\\\\\\\\"engineSize\\\\\\\\\\\\\\\"}}, \\\\\\\\\\\\\\\"typeProperty\\\\\\\\\\\\\\\": 3}]}, \\\\\\\\\\\\\\\"localData\\\\\\\\\\\\\\\": {}, \\\\\\\\\\\\\\\"isEnabled\\\\\\\\\\\\\\\": true, \\\\\\\\\\\\\\\"name\\\\\\\\\\\\\\\": null, \\\\\\\\\\\\\\\"annotation\\\\\\\\\\\\\\\": null}], \\\\\\\\\\\\\\\"inspectors\\\\\\\\\\\\\\\": [], \\\\\\\\\\\\\\\"meta\\\\\\\\\\\\\\\": {\\\\\\\\\\\\\\\"savedDatasetId\\\\\\\\\\\\\\\": \\\\\\\\\\\\\\\"edcaa9b9-58c1-4ed9-935f-df798f0d5a88\\\\\\\\\\\\\\\", \\\\\\\\\\\\\\\"datasetType\\\\\\\\\\\\\\\": \\\\\\\\\\\\\\\"tabular\\\\\\\\\\\\\\\", \\\\\\\\\\\\\\\"subscriptionId\\\\\\\\\\\\\\\": \\\\\\\\\\\\\\\"d7a31e64-085f-42e0-bb3e-c1135731e46a\\\\\\\\\\\\\\\", \\\\\\\\\\\\\\\"workspaceId\\\\\\\\\\\\\\\": \\\\\\\\\\\\\\\"11af4214-6a2f-4bdf-9658-329169c0223c\\\\\\\\\\\\\\\", \\\\\\\\\\\\\\\"workspaceLocation\\\\\\\\\\\\\\\": \\\\\\\\\\\\\\\"westus2\\\\\\\\\\\\\\\"}}\\\\\\\", \\\\\\\"activities\\\\\\\": 0}\", \"EnableSubsampling\": null, \"runTemplate\": \"AutoML\", \"azureml.runsource\": \"automl\", \"display_task_type\": \"regression\", \"dependencies_versions\": \"{\\\"azureml-widgets\\\": \\\"1.20.0\\\", \\\"azureml-train\\\": \\\"1.20.0\\\", \\\"azureml-train-restclients-hyperdrive\\\": \\\"1.20.0\\\", \\\"azureml-train-core\\\": \\\"1.20.0\\\", \\\"azureml-train-automl\\\": \\\"1.20.0\\\", \\\"azureml-train-automl-runtime\\\": \\\"1.20.0\\\", \\\"azureml-train-automl-client\\\": \\\"1.20.0\\\", \\\"azureml-tensorboard\\\": \\\"1.20.0\\\", \\\"azureml-telemetry\\\": \\\"1.20.0\\\", \\\"azureml-sdk\\\": \\\"1.20.0\\\", \\\"azureml-samples\\\": \\\"0+unknown\\\", \\\"azureml-pipeline\\\": \\\"1.20.0\\\", \\\"azureml-pipeline-steps\\\": \\\"1.20.0\\\", \\\"azureml-pipeline-core\\\": \\\"1.20.0\\\", \\\"azureml-opendatasets\\\": \\\"1.20.0\\\", \\\"azureml-model-management-sdk\\\": \\\"1.0.1b6.post1\\\", \\\"azureml-mlflow\\\": \\\"1.20.0.post1\\\", \\\"azureml-interpret\\\": \\\"1.20.0\\\", \\\"azureml-explain-model\\\": \\\"1.20.0\\\", \\\"azureml-defaults\\\": \\\"1.20.0\\\", \\\"azureml-dataset-runtime\\\": \\\"1.20.0\\\", \\\"azureml-dataprep\\\": \\\"2.7.3\\\", \\\"azureml-dataprep-rslex\\\": \\\"1.5.0\\\", \\\"azureml-dataprep-native\\\": \\\"27.0.0\\\", \\\"azureml-datadrift\\\": \\\"1.20.0\\\", \\\"azureml-core\\\": \\\"1.20.0\\\", \\\"azureml-contrib-services\\\": \\\"1.20.0\\\", \\\"azureml-contrib-server\\\": \\\"1.20.0\\\", \\\"azureml-contrib-reinforcementlearning\\\": \\\"1.20.0\\\", \\\"azureml-contrib-pipeline-steps\\\": \\\"1.20.0\\\", \\\"azureml-contrib-notebook\\\": \\\"1.20.0\\\", \\\"azureml-contrib-interpret\\\": \\\"1.20.0\\\", \\\"azureml-contrib-gbdt\\\": \\\"1.20.0\\\", \\\"azureml-contrib-fairness\\\": \\\"1.20.0\\\", \\\"azureml-contrib-dataset\\\": \\\"1.20.0\\\", \\\"azureml-cli-common\\\": \\\"1.20.0\\\", \\\"azureml-automl-runtime\\\": \\\"1.20.0\\\", \\\"azureml-automl-core\\\": \\\"1.20.0\\\", \\\"azureml-accel-models\\\": \\\"1.20.0\\\"}\", \"_aml_system_scenario_identification\": \"Remote.Parent\", \"ClientType\": \"SDK\", \"environment_cpu_name\": \"AzureML-AutoML\", \"environment_cpu_label\": \"prod\", \"environment_gpu_name\": \"AzureML-AutoML-GPU\", \"environment_gpu_label\": \"prod\", \"root_attribution\": \"automl\", \"attribution\": \"AutoML\", \"Orchestrator\": \"AutoML\", \"CancelUri\": \"https://westus2.experiments.azureml.net/jasmine/v1.0/subscriptions/d7a31e64-085f-42e0-bb3e-c1135731e46a/resourceGroups/ud-rg/providers/Microsoft.MachineLearningServices/workspaces/ud-ws/experimentids/985276a8-3d3a-4f6e-b756-19e4976b1bdf/cancel/AutoML_cf4c789a-3d8b-4af3-833e-10cdec390694\", \"azureml.git.repository_uri\": \"https://github.com/shankarpandala/nd00333-capstone.git\", \"mlflow.source.git.repoURL\": \"https://github.com/shankarpandala/nd00333-capstone.git\", \"azureml.git.branch\": \"master\", \"mlflow.source.git.branch\": \"master\", \"azureml.git.commit\": \"347acc84571fa7f2b9f9a5221e1bd969607eacb0\", \"mlflow.source.git.commit\": \"347acc84571fa7f2b9f9a5221e1bd969607eacb0\", \"azureml.git.dirty\": \"True\", \"ClientSdkVersion\": \"1.22.0\", \"snapshotId\": \"00000000-0000-0000-0000-000000000000\", \"SetupRunId\": \"AutoML_cf4c789a-3d8b-4af3-833e-10cdec390694_setup\", \"SetupRunContainerId\": \"dcid.AutoML_cf4c789a-3d8b-4af3-833e-10cdec390694_setup\", \"FeaturizationRunJsonPath\": \"featurizer_container.json\", \"FeaturizationRunId\": \"AutoML_cf4c789a-3d8b-4af3-833e-10cdec390694_featurize\", \"ProblemInfoJsonString\": \"{\\\"dataset_num_categorical\\\": 0, \\\"is_sparse\\\": true, \\\"subsampling\\\": false, \\\"dataset_classes\\\": 3777, \\\"dataset_features\\\": 98, \\\"dataset_samples\\\": 10781, \\\"single_frequency_class_detected\\\": false}\", \"ModelExplainRunId\": \"AutoML_cf4c789a-3d8b-4af3-833e-10cdec390694_ModelExplain\"}, \"tags\": {\"model_explain_run\": \"best_run\", \"_aml_system_azureml.automlComponent\": \"AutoML\", \"pipeline_id\": \"\", \"score\": \"\", \"predicted_cost\": \"\", \"fit_time\": \"\", \"training_percent\": \"\", \"iteration\": \"\", \"run_preprocessor\": \"\", \"run_algorithm\": \"\", \"dynamic_whitelisting_iterations\": \"<25>;<30>;<35>;<40>;<45>;\", \"automl_best_child_run_id\": \"AutoML_cf4c789a-3d8b-4af3-833e-10cdec390694_49\", \"model_explain_best_run_child_id\": \"AutoML_cf4c789a-3d8b-4af3-833e-10cdec390694_49\"}, \"end_time_utc\": \"2021-02-25T06:00:47.696002Z\", \"status\": \"Completed\", \"log_files\": {}, \"log_groups\": [], \"run_duration\": \"0:31:18\"}, \"child_runs\": [{\"run_id\": \"AutoML_cf4c789a-3d8b-4af3-833e-10cdec390694_3\", \"run_number\": 105, \"metric\": null, \"status\": \"Completed\", \"run_type\": \"azureml.scriptrun\", \"training_percent\": \"100\", \"start_time\": \"2021-02-25T05:43:38.313804Z\", \"end_time\": \"2021-02-25T05:44:33.995042Z\", \"created_time\": \"2021-02-25T05:41:37.553034Z\", \"created_time_dt\": \"2021-02-25T05:41:37.553034Z\", \"duration\": \"0:02:56\", \"iteration\": \"3\", \"goal\": \"normalized_root_mean_squared_error_min\", \"run_name\": \"MaxAbsScaler, DecisionTree\", \"run_properties\": \"copy=True\", \"primary_metric\": 0.04751528, \"best_metric\": 0.0223712}, {\"run_id\": \"AutoML_cf4c789a-3d8b-4af3-833e-10cdec390694_5\", \"run_number\": 106, \"metric\": null, \"status\": \"Completed\", \"run_type\": \"azureml.scriptrun\", \"training_percent\": \"100\", \"start_time\": \"2021-02-25T05:41:45.848775Z\", \"end_time\": \"2021-02-25T05:42:35.2014Z\", \"created_time\": \"2021-02-25T05:41:37.558001Z\", \"created_time_dt\": \"2021-02-25T05:41:37.558001Z\", \"duration\": \"0:00:57\", \"iteration\": \"5\", \"goal\": \"normalized_root_mean_squared_error_min\", \"run_name\": \"MaxAbsScaler, DecisionTree\", \"run_properties\": \"copy=True\", \"primary_metric\": 0.04198895, \"best_metric\": 0.0223712}, {\"run_id\": \"AutoML_cf4c789a-3d8b-4af3-833e-10cdec390694_2\", \"run_number\": 107, \"metric\": null, \"status\": \"Completed\", \"run_type\": \"azureml.scriptrun\", \"training_percent\": \"100\", \"start_time\": \"2021-02-25T05:44:43.440092Z\", \"end_time\": \"2021-02-25T05:51:33.390142Z\", \"created_time\": \"2021-02-25T05:41:37.572422Z\", \"created_time_dt\": \"2021-02-25T05:41:37.572422Z\", \"duration\": \"0:09:55\", \"iteration\": \"2\", \"goal\": \"normalized_root_mean_squared_error_min\", \"run_name\": \"StandardScalerWrapper, ElasticNet\", \"run_properties\": \"<azureml.automl.runtime.shared.model_wrappers.StandardScalerWrapper object at 0x7f30db1695c0\", \"primary_metric\": 0.02996842, \"best_metric\": 0.0223712}, {\"run_id\": \"AutoML_cf4c789a-3d8b-4af3-833e-10cdec390694_1\", \"run_number\": 108, \"metric\": null, \"status\": \"Completed\", \"run_type\": \"azureml.scriptrun\", \"training_percent\": \"100\", \"start_time\": \"2021-02-25T05:42:41.662069Z\", \"end_time\": \"2021-02-25T05:43:31.629674Z\", \"created_time\": \"2021-02-25T05:41:37.67085Z\", \"created_time_dt\": \"2021-02-25T05:41:37.67085Z\", \"duration\": \"0:01:53\", \"iteration\": \"1\", \"goal\": \"normalized_root_mean_squared_error_min\", \"run_name\": \"MaxAbsScaler, XGBoostRegressor\", \"run_properties\": \"copy=True\", \"primary_metric\": 0.02806932, \"best_metric\": 0.0223712}, {\"run_id\": \"AutoML_cf4c789a-3d8b-4af3-833e-10cdec390694_8\", \"run_number\": 109, \"metric\": null, \"status\": \"Completed\", \"run_type\": \"azureml.scriptrun\", \"training_percent\": \"100\", \"start_time\": \"2021-02-25T05:44:48.487641Z\", \"end_time\": \"2021-02-25T05:51:45.014483Z\", \"created_time\": \"2021-02-25T05:41:37.694766Z\", \"created_time_dt\": \"2021-02-25T05:41:37.694766Z\", \"duration\": \"0:10:07\", \"iteration\": \"8\", \"goal\": \"normalized_root_mean_squared_error_min\", \"run_name\": \"MaxAbsScaler, DecisionTree\", \"run_properties\": \"copy=True\", \"primary_metric\": 0.04574915, \"best_metric\": 0.0223712}, {\"run_id\": \"AutoML_cf4c789a-3d8b-4af3-833e-10cdec390694_4\", \"run_number\": 110, \"metric\": null, \"status\": \"Completed\", \"run_type\": \"azureml.scriptrun\", \"training_percent\": \"100\", \"start_time\": \"2021-02-25T05:44:38.128951Z\", \"end_time\": \"2021-02-25T05:46:17.196689Z\", \"created_time\": \"2021-02-25T05:41:37.555418Z\", \"created_time_dt\": \"2021-02-25T05:41:37.555418Z\", \"duration\": \"0:04:39\", \"iteration\": \"4\", \"goal\": \"normalized_root_mean_squared_error_min\", \"run_name\": \"MaxAbsScaler, ElasticNet\", \"run_properties\": \"copy=True\", \"primary_metric\": 0.03052663, \"best_metric\": 0.0223712}, {\"run_id\": \"AutoML_cf4c789a-3d8b-4af3-833e-10cdec390694_0\", \"run_number\": 111, \"metric\": null, \"status\": \"Completed\", \"run_type\": \"azureml.scriptrun\", \"training_percent\": \"100\", \"start_time\": \"2021-02-25T05:44:44.189609Z\", \"end_time\": \"2021-02-25T05:50:50.474063Z\", \"created_time\": \"2021-02-25T05:41:37.574878Z\", \"created_time_dt\": \"2021-02-25T05:41:37.574878Z\", \"duration\": \"0:09:12\", \"iteration\": \"0\", \"goal\": \"normalized_root_mean_squared_error_min\", \"run_name\": \"MaxAbsScaler, LightGBM\", \"run_properties\": \"copy=True\", \"primary_metric\": 0.0223712, \"best_metric\": 0.0223712}, {\"run_id\": \"AutoML_cf4c789a-3d8b-4af3-833e-10cdec390694_6\", \"run_number\": 112, \"metric\": null, \"status\": \"Completed\", \"run_type\": \"azureml.scriptrun\", \"training_percent\": \"100\", \"start_time\": \"2021-02-25T05:44:45.775943Z\", \"end_time\": \"2021-02-25T05:51:02.675782Z\", \"created_time\": \"2021-02-25T05:41:37.551689Z\", \"created_time_dt\": \"2021-02-25T05:41:37.551689Z\", \"duration\": \"0:09:25\", \"iteration\": \"6\", \"goal\": \"normalized_root_mean_squared_error_min\", \"run_name\": \"MaxAbsScaler, DecisionTree\", \"run_properties\": \"copy=True\", \"primary_metric\": 0.03719321, \"best_metric\": 0.0223712}, {\"run_id\": \"AutoML_cf4c789a-3d8b-4af3-833e-10cdec390694_9\", \"run_number\": 113, \"metric\": null, \"status\": \"Completed\", \"run_type\": \"azureml.scriptrun\", \"training_percent\": \"100\", \"start_time\": \"2021-02-25T05:44:46.184887Z\", \"end_time\": \"2021-02-25T05:50:41.972666Z\", \"created_time\": \"2021-02-25T05:41:37.580059Z\", \"created_time_dt\": \"2021-02-25T05:41:37.580059Z\", \"duration\": \"0:09:04\", \"iteration\": \"9\", \"goal\": \"normalized_root_mean_squared_error_min\", \"run_name\": \"MaxAbsScaler, DecisionTree\", \"run_properties\": \"copy=True\", \"primary_metric\": 0.04006927, \"best_metric\": 0.0223712}, {\"run_id\": \"AutoML_cf4c789a-3d8b-4af3-833e-10cdec390694_7\", \"run_number\": 114, \"metric\": null, \"status\": \"Completed\", \"run_type\": \"azureml.scriptrun\", \"training_percent\": \"100\", \"start_time\": \"2021-02-25T05:44:46.288796Z\", \"end_time\": \"2021-02-25T05:50:56.381781Z\", \"created_time\": \"2021-02-25T05:41:37.559922Z\", \"created_time_dt\": \"2021-02-25T05:41:37.559922Z\", \"duration\": \"0:09:18\", \"iteration\": \"7\", \"goal\": \"normalized_root_mean_squared_error_min\", \"run_name\": \"MaxAbsScaler, DecisionTree\", \"run_properties\": \"copy=True\", \"primary_metric\": 0.04328032, \"best_metric\": 0.0223712}, {\"run_id\": \"AutoML_cf4c789a-3d8b-4af3-833e-10cdec390694_10\", \"run_number\": 115, \"metric\": null, \"status\": \"Completed\", \"run_type\": \"azureml.scriptrun\", \"training_percent\": \"100\", \"start_time\": \"2021-02-25T05:44:43.492762Z\", \"end_time\": \"2021-02-25T05:51:29.300753Z\", \"created_time\": \"2021-02-25T05:42:39.482886Z\", \"created_time_dt\": \"2021-02-25T05:42:39.482886Z\", \"duration\": \"0:08:49\", \"iteration\": \"10\", \"goal\": \"normalized_root_mean_squared_error_min\", \"run_name\": \"MaxAbsScaler, DecisionTree\", \"run_properties\": \"copy=True\", \"primary_metric\": 0.04295638, \"best_metric\": 0.0223712}, {\"run_id\": \"AutoML_cf4c789a-3d8b-4af3-833e-10cdec390694_11\", \"run_number\": 116, \"metric\": null, \"status\": \"Completed\", \"run_type\": \"azureml.scriptrun\", \"training_percent\": \"100\", \"start_time\": \"2021-02-25T05:44:59.760326Z\", \"end_time\": \"2021-02-25T05:51:17.252339Z\", \"created_time\": \"2021-02-25T05:43:36.019895Z\", \"created_time_dt\": \"2021-02-25T05:43:36.019895Z\", \"duration\": \"0:07:41\", \"iteration\": \"11\", \"goal\": \"normalized_root_mean_squared_error_min\", \"run_name\": \"MaxAbsScaler, DecisionTree\", \"run_properties\": \"copy=True\", \"primary_metric\": 0.03642929, \"best_metric\": 0.0223712}, {\"run_id\": \"AutoML_cf4c789a-3d8b-4af3-833e-10cdec390694_12\", \"run_number\": 117, \"metric\": null, \"status\": \"Completed\", \"run_type\": \"azureml.scriptrun\", \"training_percent\": \"100\", \"start_time\": \"2021-02-25T05:46:24.427247Z\", \"end_time\": \"2021-02-25T05:47:44.837315Z\", \"created_time\": \"2021-02-25T05:44:38.943721Z\", \"created_time_dt\": \"2021-02-25T05:44:38.943721Z\", \"duration\": \"0:03:05\", \"iteration\": \"12\", \"goal\": \"normalized_root_mean_squared_error_min\", \"run_name\": \"MaxAbsScaler, DecisionTree\", \"run_properties\": \"copy=True\", \"primary_metric\": 0.04907232, \"best_metric\": 0.0223712}, {\"run_id\": \"AutoML_cf4c789a-3d8b-4af3-833e-10cdec390694_13\", \"run_number\": 118, \"metric\": null, \"status\": \"Completed\", \"run_type\": \"azureml.scriptrun\", \"training_percent\": \"100\", \"start_time\": \"2021-02-25T05:47:45.459845Z\", \"end_time\": \"2021-02-25T05:54:10.597038Z\", \"created_time\": \"2021-02-25T05:46:21.931399Z\", \"created_time_dt\": \"2021-02-25T05:46:21.931399Z\", \"duration\": \"0:07:48\", \"iteration\": \"13\", \"goal\": \"normalized_root_mean_squared_error_min\", \"run_name\": \"StandardScalerWrapper, DecisionTree\", \"run_properties\": \"<azureml.automl.runtime.shared.model_wrappers.StandardScalerWrapper object at 0x7f3c4060a1d0\", \"primary_metric\": 0.04281708, \"best_metric\": 0.0223712}, {\"run_id\": \"AutoML_cf4c789a-3d8b-4af3-833e-10cdec390694_14\", \"run_number\": 119, \"metric\": null, \"status\": \"Completed\", \"run_type\": \"azureml.scriptrun\", \"training_percent\": \"100\", \"start_time\": \"2021-02-25T05:48:34.591399Z\", \"end_time\": \"2021-02-25T05:55:25.282793Z\", \"created_time\": \"2021-02-25T05:47:51.002077Z\", \"created_time_dt\": \"2021-02-25T05:47:51.002077Z\", \"duration\": \"0:07:34\", \"iteration\": \"14\", \"goal\": \"normalized_root_mean_squared_error_min\", \"run_name\": \"MaxAbsScaler, DecisionTree\", \"run_properties\": \"copy=True\", \"primary_metric\": 0.0488924, \"best_metric\": 0.0223712}, {\"run_id\": \"AutoML_cf4c789a-3d8b-4af3-833e-10cdec390694_15\", \"run_number\": 120, \"metric\": null, \"status\": \"Canceled\", \"run_type\": \"azureml.scriptrun\", \"training_percent\": \"100\", \"start_time\": \"2021-02-25T05:50:57.43764Z\", \"end_time\": \"2021-02-25T05:56:14.953295Z\", \"created_time\": \"2021-02-25T05:50:47.295495Z\", \"created_time_dt\": \"2021-02-25T05:50:47.295495Z\", \"duration\": \"0:05:27\", \"iteration\": \"15\", \"goal\": \"normalized_root_mean_squared_error_min\", \"run_name\": \"MaxAbsScaler, DecisionTree\", \"run_properties\": \"copy=True\"}, {\"run_id\": \"AutoML_cf4c789a-3d8b-4af3-833e-10cdec390694_16\", \"run_number\": 121, \"metric\": null, \"status\": \"Completed\", \"run_type\": \"azureml.scriptrun\", \"training_percent\": \"100\", \"start_time\": \"2021-02-25T05:51:04.864691Z\", \"end_time\": \"2021-02-25T05:51:52.255504Z\", \"created_time\": \"2021-02-25T05:50:56.251193Z\", \"created_time_dt\": \"2021-02-25T05:50:56.251193Z\", \"duration\": \"0:00:56\", \"iteration\": \"16\", \"goal\": \"normalized_root_mean_squared_error_min\", \"run_name\": \"MaxAbsScaler, SGD\", \"run_properties\": \"copy=True\", \"primary_metric\": 0.03014534, \"best_metric\": 0.0223712}, {\"run_id\": \"AutoML_cf4c789a-3d8b-4af3-833e-10cdec390694_17\", \"run_number\": 122, \"metric\": null, \"status\": \"Completed\", \"run_type\": \"azureml.scriptrun\", \"training_percent\": \"100\", \"start_time\": \"2021-02-25T05:51:10.49174Z\", \"end_time\": \"2021-02-25T05:51:59.614539Z\", \"created_time\": \"2021-02-25T05:51:02.952199Z\", \"created_time_dt\": \"2021-02-25T05:51:02.952199Z\", \"duration\": \"0:00:56\", \"iteration\": \"17\", \"goal\": \"normalized_root_mean_squared_error_min\", \"run_name\": \"MaxAbsScaler, DecisionTree\", \"run_properties\": \"copy=True\", \"primary_metric\": 0.03623303, \"best_metric\": 0.0223712}, {\"run_id\": \"AutoML_cf4c789a-3d8b-4af3-833e-10cdec390694_18\", \"run_number\": 123, \"metric\": null, \"status\": \"Completed\", \"run_type\": \"azureml.scriptrun\", \"training_percent\": \"100\", \"start_time\": \"2021-02-25T05:51:21.979423Z\", \"end_time\": \"2021-02-25T05:52:33.577023Z\", \"created_time\": \"2021-02-25T05:51:09.44849Z\", \"created_time_dt\": \"2021-02-25T05:51:09.44849Z\", \"duration\": \"0:01:24\", \"iteration\": \"18\", \"goal\": \"normalized_root_mean_squared_error_min\", \"run_name\": \"MaxAbsScaler, DecisionTree\", \"run_properties\": \"copy=True\", \"primary_metric\": 0.04892101, \"best_metric\": 0.0223712}, {\"run_id\": \"AutoML_cf4c789a-3d8b-4af3-833e-10cdec390694_19\", \"run_number\": 124, \"metric\": null, \"status\": \"Completed\", \"run_type\": \"azureml.scriptrun\", \"training_percent\": \"100\", \"start_time\": \"2021-02-25T05:51:30.746728Z\", \"end_time\": \"2021-02-25T05:52:15.117418Z\", \"created_time\": \"2021-02-25T05:51:22.361647Z\", \"created_time_dt\": \"2021-02-25T05:51:22.361647Z\", \"duration\": \"0:00:52\", \"iteration\": \"19\", \"goal\": \"normalized_root_mean_squared_error_min\", \"run_name\": \"MaxAbsScaler, DecisionTree\", \"run_properties\": \"copy=True\", \"primary_metric\": 0.04755282, \"best_metric\": 0.0223712}, {\"run_id\": \"AutoML_cf4c789a-3d8b-4af3-833e-10cdec390694_20\", \"run_number\": 125, \"metric\": null, \"status\": \"Completed\", \"run_type\": \"azureml.scriptrun\", \"training_percent\": \"100\", \"start_time\": \"2021-02-25T05:51:45.000864Z\", \"end_time\": \"2021-02-25T05:52:57.946807Z\", \"created_time\": \"2021-02-25T05:51:34.447228Z\", \"created_time_dt\": \"2021-02-25T05:51:34.447228Z\", \"duration\": \"0:01:23\", \"iteration\": \"20\", \"goal\": \"normalized_root_mean_squared_error_min\", \"run_name\": \"MaxAbsScaler, SGD\", \"run_properties\": \"copy=True\", \"primary_metric\": 0.03114266, \"best_metric\": 0.0223712}, {\"run_id\": \"AutoML_cf4c789a-3d8b-4af3-833e-10cdec390694_21\", \"run_number\": 126, \"metric\": null, \"status\": \"Completed\", \"run_type\": \"azureml.scriptrun\", \"training_percent\": \"100\", \"start_time\": \"2021-02-25T05:51:48.345983Z\", \"end_time\": \"2021-02-25T05:52:34.779835Z\", \"created_time\": \"2021-02-25T05:51:41.077963Z\", \"created_time_dt\": \"2021-02-25T05:51:41.077963Z\", \"duration\": \"0:00:53\", \"iteration\": \"21\", \"goal\": \"normalized_root_mean_squared_error_min\", \"run_name\": \"MaxAbsScaler, DecisionTree\", \"run_properties\": \"copy=True\", \"primary_metric\": 0.03931752, \"best_metric\": 0.0223712}, {\"run_id\": \"AutoML_cf4c789a-3d8b-4af3-833e-10cdec390694_22\", \"run_number\": 127, \"metric\": null, \"status\": \"Completed\", \"run_type\": \"azureml.scriptrun\", \"training_percent\": \"100\", \"start_time\": \"2021-02-25T05:51:59.494438Z\", \"end_time\": \"2021-02-25T05:54:02.771618Z\", \"created_time\": \"2021-02-25T05:51:50.702214Z\", \"created_time_dt\": \"2021-02-25T05:51:50.702214Z\", \"duration\": \"0:02:12\", \"iteration\": \"22\", \"goal\": \"normalized_root_mean_squared_error_min\", \"run_name\": \"MaxAbsScaler, DecisionTree\", \"run_properties\": \"copy=True\", \"primary_metric\": 0.0395706, \"best_metric\": 0.0223712}, {\"run_id\": \"AutoML_cf4c789a-3d8b-4af3-833e-10cdec390694_23\", \"run_number\": 128, \"metric\": null, \"status\": \"Completed\", \"run_type\": \"azureml.scriptrun\", \"training_percent\": \"100\", \"start_time\": \"2021-02-25T05:52:05.495897Z\", \"end_time\": \"2021-02-25T05:53:54.34292Z\", \"created_time\": \"2021-02-25T05:51:57.376483Z\", \"created_time_dt\": \"2021-02-25T05:51:57.376483Z\", \"duration\": \"0:01:56\", \"iteration\": \"23\", \"goal\": \"normalized_root_mean_squared_error_min\", \"run_name\": \"MaxAbsScaler, DecisionTree\", \"run_properties\": \"copy=True\", \"primary_metric\": 0.03629994, \"best_metric\": 0.0223712}, {\"run_id\": \"AutoML_cf4c789a-3d8b-4af3-833e-10cdec390694_24\", \"run_number\": 129, \"metric\": null, \"status\": \"Completed\", \"run_type\": \"azureml.scriptrun\", \"training_percent\": \"100\", \"start_time\": \"2021-02-25T05:52:14.750563Z\", \"end_time\": \"2021-02-25T05:52:59.635911Z\", \"created_time\": \"2021-02-25T05:52:04.559038Z\", \"created_time_dt\": \"2021-02-25T05:52:04.559038Z\", \"duration\": \"0:00:55\", \"iteration\": \"24\", \"goal\": \"normalized_root_mean_squared_error_min\", \"run_name\": \"MaxAbsScaler, DecisionTree\", \"run_properties\": \"copy=True\", \"primary_metric\": 0.04119881, \"best_metric\": 0.0223712}, {\"run_id\": \"AutoML_cf4c789a-3d8b-4af3-833e-10cdec390694_25\", \"run_number\": 130, \"metric\": null, \"status\": \"Completed\", \"run_type\": \"azureml.scriptrun\", \"training_percent\": \"100\", \"start_time\": \"2021-02-25T05:52:30.972165Z\", \"end_time\": \"2021-02-25T05:53:23.875812Z\", \"created_time\": \"2021-02-25T05:52:21.281812Z\", \"created_time_dt\": \"2021-02-25T05:52:21.281812Z\", \"duration\": \"0:01:02\", \"iteration\": \"25\", \"goal\": \"normalized_root_mean_squared_error_min\", \"run_name\": \"MaxAbsScaler, LightGBM\", \"run_properties\": \"copy=True\", \"primary_metric\": 0.04551808, \"best_metric\": 0.0223712}, {\"run_id\": \"AutoML_cf4c789a-3d8b-4af3-833e-10cdec390694_26\", \"run_number\": 131, \"metric\": null, \"status\": \"Completed\", \"run_type\": \"azureml.scriptrun\", \"training_percent\": \"100\", \"start_time\": \"2021-02-25T05:52:47.32699Z\", \"end_time\": \"2021-02-25T05:53:37.635043Z\", \"created_time\": \"2021-02-25T05:52:37.725494Z\", \"created_time_dt\": \"2021-02-25T05:52:37.725494Z\", \"duration\": \"0:00:59\", \"iteration\": \"26\", \"goal\": \"normalized_root_mean_squared_error_min\", \"run_name\": \"MaxAbsScaler, DecisionTree\", \"run_properties\": \"copy=True\", \"primary_metric\": 0.04305181, \"best_metric\": 0.0223712}, {\"run_id\": \"AutoML_cf4c789a-3d8b-4af3-833e-10cdec390694_27\", \"run_number\": 132, \"metric\": null, \"status\": \"Completed\", \"run_type\": \"azureml.scriptrun\", \"training_percent\": \"100\", \"start_time\": \"2021-02-25T05:52:56.47761Z\", \"end_time\": \"2021-02-25T05:53:49.417555Z\", \"created_time\": \"2021-02-25T05:52:44.174121Z\", \"created_time_dt\": \"2021-02-25T05:52:44.174121Z\", \"duration\": \"0:01:05\", \"iteration\": \"27\", \"goal\": \"normalized_root_mean_squared_error_min\", \"run_name\": \"MaxAbsScaler, DecisionTree\", \"run_properties\": \"copy=True\", \"primary_metric\": 0.03805508, \"best_metric\": 0.0223712}, {\"run_id\": \"AutoML_cf4c789a-3d8b-4af3-833e-10cdec390694_28\", \"run_number\": 133, \"metric\": null, \"status\": \"Completed\", \"run_type\": \"azureml.scriptrun\", \"training_percent\": \"100\", \"start_time\": \"2021-02-25T05:53:10.610496Z\", \"end_time\": \"2021-02-25T05:54:29.243607Z\", \"created_time\": \"2021-02-25T05:53:01.801928Z\", \"created_time_dt\": \"2021-02-25T05:53:01.801928Z\", \"duration\": \"0:01:27\", \"iteration\": \"28\", \"goal\": \"normalized_root_mean_squared_error_min\", \"run_name\": \"MaxAbsScaler, RandomForest\", \"run_properties\": \"copy=True\", \"primary_metric\": 0.0379527, \"best_metric\": 0.0223712}, {\"run_id\": \"AutoML_cf4c789a-3d8b-4af3-833e-10cdec390694_29\", \"run_number\": 134, \"metric\": null, \"status\": \"Completed\", \"run_type\": \"azureml.scriptrun\", \"training_percent\": \"100\", \"start_time\": \"2021-02-25T05:53:17.391854Z\", \"end_time\": \"2021-02-25T05:54:42.598452Z\", \"created_time\": \"2021-02-25T05:53:08.132835Z\", \"created_time_dt\": \"2021-02-25T05:53:08.132835Z\", \"duration\": \"0:01:34\", \"iteration\": \"29\", \"goal\": \"normalized_root_mean_squared_error_min\", \"run_name\": \"MaxAbsScaler, DecisionTree\", \"run_properties\": \"copy=True\", \"primary_metric\": 0.03775819, \"best_metric\": 0.0223712}, {\"run_id\": \"AutoML_cf4c789a-3d8b-4af3-833e-10cdec390694_30\", \"run_number\": 135, \"metric\": null, \"status\": \"Completed\", \"run_type\": \"azureml.scriptrun\", \"training_percent\": \"100\", \"start_time\": \"2021-02-25T05:53:39.246494Z\", \"end_time\": \"2021-02-25T05:54:38.08199Z\", \"created_time\": \"2021-02-25T05:53:28.490651Z\", \"created_time_dt\": \"2021-02-25T05:53:28.490651Z\", \"duration\": \"0:01:09\", \"iteration\": \"30\", \"goal\": \"normalized_root_mean_squared_error_min\", \"run_name\": \"MaxAbsScaler, LightGBM\", \"run_properties\": \"copy=True\", \"primary_metric\": 0.04663147, \"best_metric\": 0.0223712}, {\"run_id\": \"AutoML_cf4c789a-3d8b-4af3-833e-10cdec390694_31\", \"run_number\": 136, \"metric\": null, \"status\": \"Canceled\", \"run_type\": \"azureml.scriptrun\", \"training_percent\": \"100\", \"start_time\": \"2021-02-25T05:53:48.899569Z\", \"end_time\": \"2021-02-25T05:56:15.473979Z\", \"created_time\": \"2021-02-25T05:53:39.787374Z\", \"created_time_dt\": \"2021-02-25T05:53:39.787374Z\", \"duration\": \"0:02:35\", \"iteration\": \"31\", \"goal\": \"normalized_root_mean_squared_error_min\", \"run_name\": \"MaxAbsScaler, DecisionTree\", \"run_properties\": \"copy=True\", \"primary_metric\": 0.03955637, \"best_metric\": 0.0223712}, {\"run_id\": \"AutoML_cf4c789a-3d8b-4af3-833e-10cdec390694_32\", \"run_number\": 137, \"metric\": null, \"status\": \"Completed\", \"run_type\": \"azureml.scriptrun\", \"training_percent\": \"100\", \"start_time\": \"2021-02-25T05:54:00.007646Z\", \"end_time\": \"2021-02-25T05:54:47.588579Z\", \"created_time\": \"2021-02-25T05:53:51.549877Z\", \"created_time_dt\": \"2021-02-25T05:53:51.549877Z\", \"duration\": \"0:00:56\", \"iteration\": \"32\", \"goal\": \"normalized_root_mean_squared_error_min\", \"run_name\": \"MaxAbsScaler, DecisionTree\", \"run_properties\": \"copy=True\", \"primary_metric\": 0.04246267, \"best_metric\": 0.0223712}, {\"run_id\": \"AutoML_cf4c789a-3d8b-4af3-833e-10cdec390694_33\", \"run_number\": 138, \"metric\": null, \"status\": \"Completed\", \"run_type\": \"azureml.scriptrun\", \"training_percent\": \"100\", \"start_time\": \"2021-02-25T05:54:06.096572Z\", \"end_time\": \"2021-02-25T05:54:56.117205Z\", \"created_time\": \"2021-02-25T05:53:57.119471Z\", \"created_time_dt\": \"2021-02-25T05:53:57.119471Z\", \"duration\": \"0:00:58\", \"iteration\": \"33\", \"goal\": \"normalized_root_mean_squared_error_min\", \"run_name\": \"MaxAbsScaler, DecisionTree\", \"run_properties\": \"copy=True\", \"primary_metric\": 0.04319667, \"best_metric\": 0.0223712}, {\"run_id\": \"AutoML_cf4c789a-3d8b-4af3-833e-10cdec390694_34\", \"run_number\": 139, \"metric\": null, \"status\": \"Completed\", \"run_type\": \"azureml.scriptrun\", \"training_percent\": \"100\", \"start_time\": \"2021-02-25T05:54:12.630775Z\", \"end_time\": \"2021-02-25T05:55:05.057131Z\", \"created_time\": \"2021-02-25T05:54:05.035849Z\", \"created_time_dt\": \"2021-02-25T05:54:05.035849Z\", \"duration\": \"0:01:00\", \"iteration\": \"34\", \"goal\": \"normalized_root_mean_squared_error_min\", \"run_name\": \"MaxAbsScaler, DecisionTree\", \"run_properties\": \"copy=True\", \"primary_metric\": 0.04198895, \"best_metric\": 0.0223712}, {\"run_id\": \"AutoML_cf4c789a-3d8b-4af3-833e-10cdec390694_35\", \"run_number\": 140, \"metric\": null, \"status\": \"Completed\", \"run_type\": \"azureml.scriptrun\", \"training_percent\": \"100\", \"start_time\": \"2021-02-25T05:54:23.886058Z\", \"end_time\": \"2021-02-25T05:55:13.367928Z\", \"created_time\": \"2021-02-25T05:54:13.69269Z\", \"created_time_dt\": \"2021-02-25T05:54:13.69269Z\", \"duration\": \"0:00:59\", \"iteration\": \"35\", \"goal\": \"normalized_root_mean_squared_error_min\", \"run_name\": \"MaxAbsScaler, LightGBM\", \"run_properties\": \"copy=True\", \"primary_metric\": 0.04418217, \"best_metric\": 0.0223712}, {\"run_id\": \"AutoML_cf4c789a-3d8b-4af3-833e-10cdec390694_36\", \"run_number\": 141, \"metric\": null, \"status\": \"Completed\", \"run_type\": \"azureml.scriptrun\", \"training_percent\": \"100\", \"start_time\": \"2021-02-25T05:54:39.762443Z\", \"end_time\": \"2021-02-25T05:55:43.852976Z\", \"created_time\": \"2021-02-25T05:54:31.457041Z\", \"created_time_dt\": \"2021-02-25T05:54:31.457041Z\", \"duration\": \"0:01:12\", \"iteration\": \"36\", \"goal\": \"normalized_root_mean_squared_error_min\", \"run_name\": \"MaxAbsScaler, DecisionTree\", \"run_properties\": \"copy=True\", \"primary_metric\": 0.04384268, \"best_metric\": 0.0223712}, {\"run_id\": \"AutoML_cf4c789a-3d8b-4af3-833e-10cdec390694_37\", \"run_number\": 142, \"metric\": null, \"status\": \"Completed\", \"run_type\": \"azureml.scriptrun\", \"training_percent\": \"100\", \"start_time\": \"2021-02-25T05:54:48.449933Z\", \"end_time\": \"2021-02-25T05:55:37.544335Z\", \"created_time\": \"2021-02-25T05:54:40.834343Z\", \"created_time_dt\": \"2021-02-25T05:54:40.834343Z\", \"duration\": \"0:00:56\", \"iteration\": \"37\", \"goal\": \"normalized_root_mean_squared_error_min\", \"run_name\": \"MaxAbsScaler, LightGBM\", \"run_properties\": \"copy=True\", \"primary_metric\": 0.04702232, \"best_metric\": 0.0223712}, {\"run_id\": \"AutoML_cf4c789a-3d8b-4af3-833e-10cdec390694_38\", \"run_number\": 143, \"metric\": null, \"status\": \"Completed\", \"run_type\": \"azureml.scriptrun\", \"training_percent\": \"100\", \"start_time\": \"2021-02-25T05:54:53.140169Z\", \"end_time\": \"2021-02-25T05:56:01.027501Z\", \"created_time\": \"2021-02-25T05:54:44.544621Z\", \"created_time_dt\": \"2021-02-25T05:54:44.544621Z\", \"duration\": \"0:01:16\", \"iteration\": \"38\", \"goal\": \"normalized_root_mean_squared_error_min\", \"run_name\": \"MaxAbsScaler, DecisionTree\", \"run_properties\": \"copy=True\", \"primary_metric\": 0.04293567, \"best_metric\": 0.0223712}, {\"run_id\": \"AutoML_cf4c789a-3d8b-4af3-833e-10cdec390694_39\", \"run_number\": 144, \"metric\": null, \"status\": \"Completed\", \"run_type\": \"azureml.scriptrun\", \"training_percent\": \"100\", \"start_time\": \"2021-02-25T05:54:58.059643Z\", \"end_time\": \"2021-02-25T05:55:41.549477Z\", \"created_time\": \"2021-02-25T05:54:50.207442Z\", \"created_time_dt\": \"2021-02-25T05:54:50.207442Z\", \"duration\": \"0:00:51\", \"iteration\": \"39\", \"goal\": \"normalized_root_mean_squared_error_min\", \"run_name\": \"MaxAbsScaler, DecisionTree\", \"run_properties\": \"copy=True\", \"primary_metric\": 0.04598955, \"best_metric\": 0.0223712}, {\"run_id\": \"AutoML_cf4c789a-3d8b-4af3-833e-10cdec390694_40\", \"run_number\": 145, \"metric\": null, \"status\": \"Completed\", \"run_type\": \"azureml.scriptrun\", \"training_percent\": \"100\", \"start_time\": \"2021-02-25T05:55:08.341962Z\", \"end_time\": \"2021-02-25T05:55:57.986969Z\", \"created_time\": \"2021-02-25T05:55:00.022027Z\", \"created_time_dt\": \"2021-02-25T05:55:00.022027Z\", \"duration\": \"0:00:57\", \"iteration\": \"40\", \"goal\": \"normalized_root_mean_squared_error_min\", \"run_name\": \"MaxAbsScaler, LightGBM\", \"run_properties\": \"copy=True\", \"primary_metric\": 0.03133555, \"best_metric\": 0.0223712}, {\"run_id\": \"AutoML_cf4c789a-3d8b-4af3-833e-10cdec390694_41\", \"run_number\": 146, \"metric\": null, \"status\": \"Completed\", \"run_type\": \"azureml.scriptrun\", \"training_percent\": \"100\", \"start_time\": \"2021-02-25T05:55:17.476531Z\", \"end_time\": \"2021-02-25T05:56:03.715627Z\", \"created_time\": \"2021-02-25T05:55:07.538133Z\", \"created_time_dt\": \"2021-02-25T05:55:07.538133Z\", \"duration\": \"0:00:56\", \"iteration\": \"41\", \"goal\": \"normalized_root_mean_squared_error_min\", \"run_name\": \"MaxAbsScaler, DecisionTree\", \"run_properties\": \"copy=True\", \"primary_metric\": 0.03786428, \"best_metric\": 0.0223712}, {\"run_id\": \"AutoML_cf4c789a-3d8b-4af3-833e-10cdec390694_42\", \"run_number\": 147, \"metric\": null, \"status\": \"Canceled\", \"run_type\": \"azureml.scriptrun\", \"training_percent\": \"100\", \"start_time\": \"2021-02-25T05:55:24.524114Z\", \"end_time\": \"2021-02-25T05:56:11.075054Z\", \"created_time\": \"2021-02-25T05:55:15.757494Z\", \"created_time_dt\": \"2021-02-25T05:55:15.757494Z\", \"duration\": \"0:00:55\", \"iteration\": \"42\", \"goal\": \"normalized_root_mean_squared_error_min\", \"run_name\": \"MaxAbsScaler, SGD\", \"run_properties\": \"copy=True\", \"primary_metric\": 0.03123635, \"best_metric\": 0.0223712}, {\"run_id\": \"AutoML_cf4c789a-3d8b-4af3-833e-10cdec390694_43\", \"run_number\": 148, \"metric\": null, \"status\": \"Canceled\", \"run_type\": \"azureml.scriptrun\", \"training_percent\": \"100\", \"start_time\": \"2021-02-25T05:55:40.74503Z\", \"end_time\": \"2021-02-25T05:56:11.222703Z\", \"created_time\": \"2021-02-25T05:55:28.024324Z\", \"created_time_dt\": \"2021-02-25T05:55:28.024324Z\", \"duration\": \"0:00:43\", \"iteration\": \"43\", \"goal\": null, \"run_name\": \"MaxAbsScaler, DecisionTree\", \"run_properties\": null}, {\"run_id\": \"AutoML_cf4c789a-3d8b-4af3-833e-10cdec390694_44\", \"run_number\": 149, \"metric\": null, \"status\": \"Canceled\", \"run_type\": \"azureml.scriptrun\", \"training_percent\": \"100\", \"start_time\": \"2021-02-25T05:55:47.697783Z\", \"end_time\": \"2021-02-25T05:56:12.732926Z\", \"created_time\": \"2021-02-25T05:55:40.068588Z\", \"created_time_dt\": \"2021-02-25T05:55:40.068588Z\", \"duration\": \"0:00:32\", \"iteration\": \"44\", \"goal\": null, \"run_name\": \"MaxAbsScaler, LightGBM\", \"run_properties\": null}, {\"run_id\": \"AutoML_cf4c789a-3d8b-4af3-833e-10cdec390694_45\", \"run_number\": 150, \"metric\": null, \"status\": \"Canceled\", \"run_type\": \"azureml.scriptrun\", \"training_percent\": \"100\", \"start_time\": \"2021-02-25T05:55:53.002142Z\", \"end_time\": \"2021-02-25T05:56:09.317583Z\", \"created_time\": \"2021-02-25T05:55:45.341292Z\", \"created_time_dt\": \"2021-02-25T05:55:45.341292Z\", \"duration\": \"0:00:23\", \"iteration\": \"45\", \"goal\": null, \"run_name\": \"Canceled\", \"run_properties\": null}, {\"run_id\": \"AutoML_cf4c789a-3d8b-4af3-833e-10cdec390694_46\", \"run_number\": 151, \"metric\": null, \"status\": \"Canceled\", \"run_type\": \"azureml.scriptrun\", \"training_percent\": \"100\", \"start_time\": \"2021-02-25T05:56:00.702505Z\", \"end_time\": \"2021-02-25T05:56:10.574102Z\", \"created_time\": \"2021-02-25T05:55:49.662674Z\", \"created_time_dt\": \"2021-02-25T05:55:49.662674Z\", \"duration\": \"0:00:20\", \"iteration\": \"46\", \"goal\": null, \"run_name\": \"Canceled\", \"run_properties\": null}, {\"run_id\": \"AutoML_cf4c789a-3d8b-4af3-833e-10cdec390694_47\", \"run_number\": 152, \"metric\": null, \"status\": \"Canceled\", \"run_type\": \"azureml.scriptrun\", \"training_percent\": \"100\", \"start_time\": \"2021-02-25T05:56:09.716979Z\", \"end_time\": \"2021-02-25T05:56:17.163582Z\", \"created_time\": \"2021-02-25T05:56:00.277313Z\", \"created_time_dt\": \"2021-02-25T05:56:00.277313Z\", \"duration\": \"0:00:16\", \"iteration\": \"47\", \"goal\": null, \"run_name\": \"Canceled\", \"run_properties\": null}, {\"run_id\": \"AutoML_cf4c789a-3d8b-4af3-833e-10cdec390694_48\", \"run_number\": 153, \"metric\": null, \"status\": \"Completed\", \"run_type\": \"azureml.scriptrun\", \"training_percent\": \"100\", \"start_time\": \"2021-02-25T05:56:27.264845Z\", \"end_time\": \"2021-02-25T06:00:07.347747Z\", \"created_time\": \"2021-02-25T05:56:18.395656Z\", \"created_time_dt\": \"2021-02-25T05:56:18.395656Z\", \"duration\": \"0:03:48\", \"iteration\": \"48\", \"goal\": \"normalized_root_mean_squared_error_min\", \"run_name\": \"VotingEnsemble\", \"run_properties\": \"estimators=[('0',\\n                                          Pipeline(memory=None,\\n                                                   steps=[('maxabsscaler',\\n                                                           MaxAbsScaler(copy=True\", \"primary_metric\": 0.02225033, \"best_metric\": 0.02225033}, {\"run_id\": \"AutoML_cf4c789a-3d8b-4af3-833e-10cdec390694_49\", \"run_number\": 154, \"metric\": null, \"status\": \"Completed\", \"run_type\": \"azureml.scriptrun\", \"training_percent\": \"100\", \"start_time\": \"2021-02-25T05:56:26.484513Z\", \"end_time\": \"2021-02-25T06:00:33.607287Z\", \"created_time\": \"2021-02-25T05:56:18.504311Z\", \"created_time_dt\": \"2021-02-25T05:56:18.504311Z\", \"duration\": \"0:04:15\", \"iteration\": \"49\", \"goal\": \"normalized_root_mean_squared_error_min\", \"run_name\": \"StackEnsemble\", \"run_properties\": \"base_learners=[('0',\\n                                       Pipeline(memory=None,\\n                                                steps=[('maxabsscaler',\\n                                                        MaxAbsScaler(copy=True\", \"primary_metric\": 0.02222817, \"best_metric\": 0.02222817}], \"children_metrics\": {\"categories\": [0], \"series\": {\"median_absolute_error\": [{\"categories\": [\"0\", \"1\", \"2\", \"3\", \"4\", \"5\", \"6\", \"7\", \"8\", \"9\", \"10\", \"11\", \"12\", \"13\", \"14\", \"16\", \"17\", \"18\", \"19\", \"20\", \"21\", \"22\", \"23\", \"24\", \"25\", \"26\", \"27\", \"28\", \"29\", \"30\", \"31\", \"32\", \"33\", \"34\", \"35\", \"36\", \"37\", \"38\", \"39\", \"40\", \"41\", \"42\", \"48\", \"49\"], \"mode\": \"markers\", \"name\": \"median_absolute_error\", \"stepped\": false, \"type\": \"scatter\", \"data\": [1142.193308618279, 1639.522265625, 1736.4502182567608, 2536.9139666119872, 1760.12130133026, 2187.011141704173, 1937.7725226732086, 2209.2213974140714, 2548.1668229538395, 1959.1688267635188, 2200.5395629495315, 1821.0831743480317, 2597.6457661134214, 2200.0131625602908, 2700.7607103030614, 1781.766730262195, 1850.279686801829, 2645.026588565352, 2440.3311031676053, 1790.7496976609295, 2092.072006712618, 1999.874020409287, 1925.532444026187, 2132.479882520435, 2425.6174941662707, 2247.1483265454217, 1902.9337788596247, 1868.3201604658766, 1905.2113643755579, 2630.172316625349, 1995.8350205954616, 2121.996671175273, 2255.23983706315, 2187.011141704173, 2346.3777673402797, 2360.569131133569, 2841.93373068734, 2152.001421643251, 2565.745454358247, 1419.7895800904819, 1971.4273791234853, 1794.2422625945533, 1143.7008915945805, 1148.0335042516788]}, {\"categories\": [\"0\", \"1\", \"2\", \"3\", \"4\", \"5\", \"6\", \"7\", \"8\", \"9\", \"10\", \"11\", \"12\", \"13\", \"14\", \"16\", \"17\", \"18\", \"19\", \"20\", \"21\", \"22\", \"23\", \"24\", \"25\", \"26\", \"27\", \"28\", \"29\", \"30\", \"31\", \"32\", \"33\", \"34\", \"35\", \"36\", \"37\", \"38\", \"39\", \"40\", \"41\", \"42\", \"48\", \"49\"], \"mode\": \"lines\", \"name\": \"median_absolute_error_min\", \"stepped\": true, \"type\": \"scatter\", \"data\": [1142.193308618279, 1142.193308618279, 1142.193308618279, 1142.193308618279, 1142.193308618279, 1142.193308618279, 1142.193308618279, 1142.193308618279, 1142.193308618279, 1142.193308618279, 1142.193308618279, 1142.193308618279, 1142.193308618279, 1142.193308618279, 1142.193308618279, 1142.193308618279, 1142.193308618279, 1142.193308618279, 1142.193308618279, 1142.193308618279, 1142.193308618279, 1142.193308618279, 1142.193308618279, 1142.193308618279, 1142.193308618279, 1142.193308618279, 1142.193308618279, 1142.193308618279, 1142.193308618279, 1142.193308618279, 1142.193308618279, 1142.193308618279, 1142.193308618279, 1142.193308618279, 1142.193308618279, 1142.193308618279, 1142.193308618279, 1142.193308618279, 1142.193308618279, 1142.193308618279, 1142.193308618279, 1142.193308618279, 1142.193308618279, 1142.193308618279]}], \"normalized_root_mean_squared_error\": [{\"categories\": [\"0\", \"1\", \"2\", \"3\", \"4\", \"5\", \"6\", \"7\", \"8\", \"9\", \"10\", \"11\", \"12\", \"13\", \"14\", \"16\", \"17\", \"18\", \"19\", \"20\", \"21\", \"22\", \"23\", \"24\", \"25\", \"26\", \"27\", \"28\", \"29\", \"30\", \"31\", \"32\", \"33\", \"34\", \"35\", \"36\", \"37\", \"38\", \"39\", \"40\", \"41\", \"42\", \"48\", \"49\"], \"mode\": \"markers\", \"name\": \"normalized_root_mean_squared_error\", \"stepped\": false, \"type\": \"scatter\", \"data\": [0.022371199744866045, 0.028069323737861314, 0.029968423652496263, 0.04751528223606037, 0.030526634263977115, 0.04198894688673361, 0.03719320984627662, 0.043280324682205905, 0.04574914506349571, 0.040069265490989256, 0.04295637740201598, 0.036429285704193834, 0.04907232485295038, 0.042817075800620004, 0.048892398260626524, 0.030145338827782187, 0.03623302909693975, 0.04892100832455346, 0.04755282176006413, 0.031142663912469382, 0.03931751840829094, 0.039570595850871124, 0.03629994490325826, 0.04119880911260118, 0.04551808441519902, 0.04305181434233286, 0.03805507658317782, 0.037952697617526156, 0.037758192163883784, 0.04663146643823669, 0.03955637133589768, 0.04246267237922977, 0.043196674646698706, 0.04198894688673361, 0.0441821672918249, 0.04384267534881851, 0.047022317794821314, 0.04293566876827082, 0.04598954852760005, 0.0313355526307848, 0.03786427787189646, 0.031236351483149728, 0.022250333479261735, 0.022228172592737197]}, {\"categories\": [\"0\", \"1\", \"2\", \"3\", \"4\", \"5\", \"6\", \"7\", \"8\", \"9\", \"10\", \"11\", \"12\", \"13\", \"14\", \"16\", \"17\", \"18\", \"19\", \"20\", \"21\", \"22\", \"23\", \"24\", \"25\", \"26\", \"27\", \"28\", \"29\", \"30\", \"31\", \"32\", \"33\", \"34\", \"35\", \"36\", \"37\", \"38\", \"39\", \"40\", \"41\", \"42\", \"48\", \"49\"], \"mode\": \"lines\", \"name\": \"normalized_root_mean_squared_error_min\", \"stepped\": true, \"type\": \"scatter\", \"data\": [0.022371199744866045, 0.022371199744866045, 0.022371199744866045, 0.022371199744866045, 0.022371199744866045, 0.022371199744866045, 0.022371199744866045, 0.022371199744866045, 0.022371199744866045, 0.022371199744866045, 0.022371199744866045, 0.022371199744866045, 0.022371199744866045, 0.022371199744866045, 0.022371199744866045, 0.022371199744866045, 0.022371199744866045, 0.022371199744866045, 0.022371199744866045, 0.022371199744866045, 0.022371199744866045, 0.022371199744866045, 0.022371199744866045, 0.022371199744866045, 0.022371199744866045, 0.022371199744866045, 0.022371199744866045, 0.022371199744866045, 0.022371199744866045, 0.022371199744866045, 0.022371199744866045, 0.022371199744866045, 0.022371199744866045, 0.022371199744866045, 0.022371199744866045, 0.022371199744866045, 0.022371199744866045, 0.022371199744866045, 0.022371199744866045, 0.022371199744866045, 0.022371199744866045, 0.022371199744866045, 0.022250333479261735, 0.022228172592737197]}], \"spearman_correlation\": [{\"categories\": [\"0\", \"1\", \"2\", \"3\", \"4\", \"5\", \"6\", \"7\", \"8\", \"9\", \"10\", \"11\", \"12\", \"13\", \"14\", \"16\", \"17\", \"18\", \"19\", \"20\", \"21\", \"22\", \"23\", \"24\", \"25\", \"26\", \"27\", \"28\", \"29\", \"30\", \"31\", \"32\", \"33\", \"34\", \"35\", \"36\", \"37\", \"38\", \"39\", \"40\", \"41\", \"42\", \"48\", \"49\"], \"mode\": \"markers\", \"name\": \"spearman_correlation\", \"stepped\": false, \"type\": \"scatter\", \"data\": [0.9755156467174404, 0.9549182361046963, 0.9560021135864583, 0.8839259099508624, 0.9549462246956001, 0.9121130811663886, 0.9308067761468346, 0.9066308087978264, 0.8884535342700278, 0.9247937788249067, 0.909875861263431, 0.9335809053658453, 0.8784523623449779, 0.9049119936340864, 0.8724358770165397, 0.9546143048311573, 0.9327702365518137, 0.8778154567188959, 0.8906653996880859, 0.9534600518933211, 0.9207643187386889, 0.9242411637183559, 0.9310322061337887, 0.9121142347706013, 0.9036525406282095, 0.9103026022935566, 0.9270975618934478, 0.9364296220984334, 0.9274753160813518, 0.8975616250151084, 0.9206887410627311, 0.9137463666047786, 0.9033384838735327, 0.9121130811663886, 0.9107210463996942, 0.9008854102861387, 0.9270844029568863, 0.9075600602471354, 0.8878479151978171, 0.9618174796690596, 0.9291531259500406, 0.9532803220139485, 0.9758643002622531, 0.9758470029861218]}, {\"categories\": [\"0\", \"1\", \"2\", \"3\", \"4\", \"5\", \"6\", \"7\", \"8\", \"9\", \"10\", \"11\", \"12\", \"13\", \"14\", \"16\", \"17\", \"18\", \"19\", \"20\", \"21\", \"22\", \"23\", \"24\", \"25\", \"26\", \"27\", \"28\", \"29\", \"30\", \"31\", \"32\", \"33\", \"34\", \"35\", \"36\", \"37\", \"38\", \"39\", \"40\", \"41\", \"42\", \"48\", \"49\"], \"mode\": \"lines\", \"name\": \"spearman_correlation_max\", \"stepped\": true, \"type\": \"scatter\", \"data\": [0.9755156467174404, 0.9755156467174404, 0.9755156467174404, 0.9755156467174404, 0.9755156467174404, 0.9755156467174404, 0.9755156467174404, 0.9755156467174404, 0.9755156467174404, 0.9755156467174404, 0.9755156467174404, 0.9755156467174404, 0.9755156467174404, 0.9755156467174404, 0.9755156467174404, 0.9755156467174404, 0.9755156467174404, 0.9755156467174404, 0.9755156467174404, 0.9755156467174404, 0.9755156467174404, 0.9755156467174404, 0.9755156467174404, 0.9755156467174404, 0.9755156467174404, 0.9755156467174404, 0.9755156467174404, 0.9755156467174404, 0.9755156467174404, 0.9755156467174404, 0.9755156467174404, 0.9755156467174404, 0.9755156467174404, 0.9755156467174404, 0.9755156467174404, 0.9755156467174404, 0.9755156467174404, 0.9755156467174404, 0.9755156467174404, 0.9755156467174404, 0.9755156467174404, 0.9755156467174404, 0.9758643002622531, 0.9758643002622531]}], \"normalized_median_absolute_error\": [{\"categories\": [\"0\", \"1\", \"2\", \"3\", \"4\", \"5\", \"6\", \"7\", \"8\", \"9\", \"10\", \"11\", \"12\", \"13\", \"14\", \"16\", \"17\", \"18\", \"19\", \"20\", \"21\", \"22\", \"23\", \"24\", \"25\", \"26\", \"27\", \"28\", \"29\", \"30\", \"31\", \"32\", \"33\", \"34\", \"35\", \"36\", \"37\", \"38\", \"39\", \"40\", \"41\", \"42\", \"48\", \"49\"], \"mode\": \"markers\", \"name\": \"normalized_median_absolute_error\", \"stepped\": false, \"type\": \"scatter\", \"data\": [0.009342636014741845, 0.013410566889355125, 0.01420339466575678, 0.020750834041781078, 0.014397013654383098, 0.0178887837137169, 0.015850122060865796, 0.01807045378070665, 0.020842877428951048, 0.0160251343636592, 0.01799944021520033, 0.01489565480915482, 0.02124759329696229, 0.017995134492869803, 0.022091027927488724, 0.0145740636881805, 0.01513446936593565, 0.021635147465689633, 0.019960828942281815, 0.014647540387882223, 0.017112223585857695, 0.016358084841719724, 0.015750003631937792, 0.01744274213552247, 0.019840478129222863, 0.018380679284005868, 0.015565156547405645, 0.015282032460295419, 0.015583786189434939, 0.0215136460920147, 0.016325047609896132, 0.017356994103972588, 0.018446864260757347, 0.0178887837137169, 0.019192332215517274, 0.019308411293789823, 0.023245760786279122, 0.01760241969018495, 0.020986662857923104, 0.011613250720541174, 0.01612540389938723, 0.014676108024101502, 0.009354967376607942, 0.009390406231609727]}, {\"categories\": [\"0\", \"1\", \"2\", \"3\", \"4\", \"5\", \"6\", \"7\", \"8\", \"9\", \"10\", \"11\", \"12\", \"13\", \"14\", \"16\", \"17\", \"18\", \"19\", \"20\", \"21\", \"22\", \"23\", \"24\", \"25\", \"26\", \"27\", \"28\", \"29\", \"30\", \"31\", \"32\", \"33\", \"34\", \"35\", \"36\", \"37\", \"38\", \"39\", \"40\", \"41\", \"42\", \"48\", \"49\"], \"mode\": \"lines\", \"name\": \"normalized_median_absolute_error_min\", \"stepped\": true, \"type\": \"scatter\", \"data\": [0.009342636014741845, 0.009342636014741845, 0.009342636014741845, 0.009342636014741845, 0.009342636014741845, 0.009342636014741845, 0.009342636014741845, 0.009342636014741845, 0.009342636014741845, 0.009342636014741845, 0.009342636014741845, 0.009342636014741845, 0.009342636014741845, 0.009342636014741845, 0.009342636014741845, 0.009342636014741845, 0.009342636014741845, 0.009342636014741845, 0.009342636014741845, 0.009342636014741845, 0.009342636014741845, 0.009342636014741845, 0.009342636014741845, 0.009342636014741845, 0.009342636014741845, 0.009342636014741845, 0.009342636014741845, 0.009342636014741845, 0.009342636014741845, 0.009342636014741845, 0.009342636014741845, 0.009342636014741845, 0.009342636014741845, 0.009342636014741845, 0.009342636014741845, 0.009342636014741845, 0.009342636014741845, 0.009342636014741845, 0.009342636014741845, 0.009342636014741845, 0.009342636014741845, 0.009342636014741845, 0.009342636014741845, 0.009342636014741845]}], \"mean_absolute_percentage_error\": [{\"categories\": [\"0\", \"1\", \"2\", \"3\", \"4\", \"5\", \"6\", \"7\", \"8\", \"9\", \"10\", \"11\", \"12\", \"13\", \"14\", \"16\", \"17\", \"18\", \"19\", \"20\", \"21\", \"22\", \"23\", \"24\", \"25\", \"26\", \"27\", \"28\", \"29\", \"30\", \"31\", \"32\", \"33\", \"34\", \"35\", \"36\", \"37\", \"38\", \"39\", \"40\", \"41\", \"42\", \"48\", \"49\"], \"mode\": \"markers\", \"name\": \"mean_absolute_percentage_error\", \"stepped\": false, \"type\": \"scatter\", \"data\": [8.052444193362843, 11.609046894616615, 11.9878916430914, 18.76293901234052, 11.90603248097566, 15.86529842304746, 13.917272833950253, 16.577768961311797, 18.198880536941243, 14.631743213078348, 16.16496296518591, 13.298660963612178, 19.36306227054167, 16.46981138876533, 19.647535717117204, 12.029334171385763, 13.603168462779237, 19.425497399584994, 18.403069349640955, 12.207124462848377, 15.264723833926661, 14.633855182466286, 13.831816416671606, 15.83481535302705, 17.98220220716582, 16.460104709102225, 14.190834855745283, 14.024243380989251, 14.29468473488009, 18.880157396509325, 14.79541452365316, 16.087124949252996, 16.575524879568913, 15.86529842304746, 17.180674618861804, 16.8715723161892, 20.546048082740068, 16.314839423021013, 18.111194036590536, 10.877869717797648, 14.18766724828761, 12.20695812356556, 7.968949251936083, 7.949127681206731]}, {\"categories\": [\"0\", \"1\", \"2\", \"3\", \"4\", \"5\", \"6\", \"7\", \"8\", \"9\", \"10\", \"11\", \"12\", \"13\", \"14\", \"16\", \"17\", \"18\", \"19\", \"20\", \"21\", \"22\", \"23\", \"24\", \"25\", \"26\", \"27\", \"28\", \"29\", \"30\", \"31\", \"32\", \"33\", \"34\", \"35\", \"36\", \"37\", \"38\", \"39\", \"40\", \"41\", \"42\", \"48\", \"49\"], \"mode\": \"lines\", \"name\": \"mean_absolute_percentage_error_min\", \"stepped\": true, \"type\": \"scatter\", \"data\": [8.052444193362843, 8.052444193362843, 8.052444193362843, 8.052444193362843, 8.052444193362843, 8.052444193362843, 8.052444193362843, 8.052444193362843, 8.052444193362843, 8.052444193362843, 8.052444193362843, 8.052444193362843, 8.052444193362843, 8.052444193362843, 8.052444193362843, 8.052444193362843, 8.052444193362843, 8.052444193362843, 8.052444193362843, 8.052444193362843, 8.052444193362843, 8.052444193362843, 8.052444193362843, 8.052444193362843, 8.052444193362843, 8.052444193362843, 8.052444193362843, 8.052444193362843, 8.052444193362843, 8.052444193362843, 8.052444193362843, 8.052444193362843, 8.052444193362843, 8.052444193362843, 8.052444193362843, 8.052444193362843, 8.052444193362843, 8.052444193362843, 8.052444193362843, 8.052444193362843, 8.052444193362843, 8.052444193362843, 7.968949251936083, 7.949127681206731]}], \"explained_variance\": [{\"categories\": [\"0\", \"1\", \"2\", \"3\", \"4\", \"5\", \"6\", \"7\", \"8\", \"9\", \"10\", \"11\", \"12\", \"13\", \"14\", \"16\", \"17\", \"18\", \"19\", \"20\", \"21\", \"22\", \"23\", \"24\", \"25\", \"26\", \"27\", \"28\", \"29\", \"30\", \"31\", \"32\", \"33\", \"34\", \"35\", \"36\", \"37\", \"38\", \"39\", \"40\", \"41\", \"42\", \"48\", \"49\"], \"mode\": \"markers\", \"name\": \"explained_variance\", \"stepped\": false, \"type\": \"scatter\", \"data\": [0.9413965055228314, 0.9084765604676409, 0.8963654623562662, 0.7403208522572259, 0.8925086646298563, 0.7973265211132994, 0.8409296114964304, 0.7849205695451839, 0.7593719782271465, 0.81533857985262, 0.7872143158819538, 0.8470765596103128, 0.7233989702230289, 0.7885823553605983, 0.7248809133682608, 0.8951522672423561, 0.8489322781956782, 0.724354869494583, 0.7395108549276287, 0.8882504281827774, 0.822264988262156, 0.8199588804508519, 0.8484227627901622, 0.8046086092597229, 0.7620640601318124, 0.7870836201335608, 0.8331027971795466, 0.8342529855467854, 0.8360502307814498, 0.7502558670089984, 0.819888135447511, 0.7927519066673092, 0.7852622434587888, 0.7973265211132994, 0.7758046248368451, 0.7790045387837219, 0.7461613985792225, 0.787891529474779, 0.7570527795754324, 0.8864033242032701, 0.8350167463030502, 0.8875565364153337, 0.9420434800493377, 0.9421792937489568]}, {\"categories\": [\"0\", \"1\", \"2\", \"3\", \"4\", \"5\", \"6\", \"7\", \"8\", \"9\", \"10\", \"11\", \"12\", \"13\", \"14\", \"16\", \"17\", \"18\", \"19\", \"20\", \"21\", \"22\", \"23\", \"24\", \"25\", \"26\", \"27\", \"28\", \"29\", \"30\", \"31\", \"32\", \"33\", \"34\", \"35\", \"36\", \"37\", \"38\", \"39\", \"40\", \"41\", \"42\", \"48\", \"49\"], \"mode\": \"lines\", \"name\": \"explained_variance_max\", \"stepped\": true, \"type\": \"scatter\", \"data\": [0.9413965055228314, 0.9413965055228314, 0.9413965055228314, 0.9413965055228314, 0.9413965055228314, 0.9413965055228314, 0.9413965055228314, 0.9413965055228314, 0.9413965055228314, 0.9413965055228314, 0.9413965055228314, 0.9413965055228314, 0.9413965055228314, 0.9413965055228314, 0.9413965055228314, 0.9413965055228314, 0.9413965055228314, 0.9413965055228314, 0.9413965055228314, 0.9413965055228314, 0.9413965055228314, 0.9413965055228314, 0.9413965055228314, 0.9413965055228314, 0.9413965055228314, 0.9413965055228314, 0.9413965055228314, 0.9413965055228314, 0.9413965055228314, 0.9413965055228314, 0.9413965055228314, 0.9413965055228314, 0.9413965055228314, 0.9413965055228314, 0.9413965055228314, 0.9413965055228314, 0.9413965055228314, 0.9413965055228314, 0.9413965055228314, 0.9413965055228314, 0.9413965055228314, 0.9413965055228314, 0.9420434800493377, 0.9421792937489568]}], \"normalized_mean_absolute_error\": [{\"categories\": [\"0\", \"1\", \"2\", \"3\", \"4\", \"5\", \"6\", \"7\", \"8\", \"9\", \"10\", \"11\", \"12\", \"13\", \"14\", \"16\", \"17\", \"18\", \"19\", \"20\", \"21\", \"22\", \"23\", \"24\", \"25\", \"26\", \"27\", \"28\", \"29\", \"30\", \"31\", \"32\", \"33\", \"34\", \"35\", \"36\", \"37\", \"38\", \"39\", \"40\", \"41\", \"42\", \"48\", \"49\"], \"mode\": \"markers\", \"name\": \"normalized_mean_absolute_error\", \"stepped\": false, \"type\": \"scatter\", \"data\": [0.013690879054048444, 0.018752306938429147, 0.019706000072956344, 0.030934745442355367, 0.02001503994219416, 0.026497657368259885, 0.023142500926705372, 0.027255823997434397, 0.030120872996522295, 0.024544226892767456, 0.02708760975953488, 0.022515063680659374, 0.031792371185700274, 0.02713582612452923, 0.03222275373962158, 0.01998631522583603, 0.022559042648210247, 0.032112308864858594, 0.03047381545327385, 0.020465638157996163, 0.0250272644352926, 0.02463777877949649, 0.022837847648411198, 0.025918385905510117, 0.02943304292812256, 0.027198044010161338, 0.023654790670754145, 0.0232105507911489, 0.023494879469629866, 0.030822292748563157, 0.02463304132509911, 0.02645444040158727, 0.027592293276412733, 0.026497657368259885, 0.028355645921675658, 0.028420288593822014, 0.03110030352328789, 0.026887835547274818, 0.03019746352445815, 0.01856909196106814, 0.023595367026851295, 0.020495093019384392, 0.01363069372711686, 0.013666378786666336]}, {\"categories\": [\"0\", \"1\", \"2\", \"3\", \"4\", \"5\", \"6\", \"7\", \"8\", \"9\", \"10\", \"11\", \"12\", \"13\", \"14\", \"16\", \"17\", \"18\", \"19\", \"20\", \"21\", \"22\", \"23\", \"24\", \"25\", \"26\", \"27\", \"28\", \"29\", \"30\", \"31\", \"32\", \"33\", \"34\", \"35\", \"36\", \"37\", \"38\", \"39\", \"40\", \"41\", \"42\", \"48\", \"49\"], \"mode\": \"lines\", \"name\": \"normalized_mean_absolute_error_min\", \"stepped\": true, \"type\": \"scatter\", \"data\": [0.013690879054048444, 0.013690879054048444, 0.013690879054048444, 0.013690879054048444, 0.013690879054048444, 0.013690879054048444, 0.013690879054048444, 0.013690879054048444, 0.013690879054048444, 0.013690879054048444, 0.013690879054048444, 0.013690879054048444, 0.013690879054048444, 0.013690879054048444, 0.013690879054048444, 0.013690879054048444, 0.013690879054048444, 0.013690879054048444, 0.013690879054048444, 0.013690879054048444, 0.013690879054048444, 0.013690879054048444, 0.013690879054048444, 0.013690879054048444, 0.013690879054048444, 0.013690879054048444, 0.013690879054048444, 0.013690879054048444, 0.013690879054048444, 0.013690879054048444, 0.013690879054048444, 0.013690879054048444, 0.013690879054048444, 0.013690879054048444, 0.013690879054048444, 0.013690879054048444, 0.013690879054048444, 0.013690879054048444, 0.013690879054048444, 0.013690879054048444, 0.013690879054048444, 0.013690879054048444, 0.01363069372711686, 0.01363069372711686]}], \"r2_score\": [{\"categories\": [\"0\", \"1\", \"2\", \"3\", \"4\", \"5\", \"6\", \"7\", \"8\", \"9\", \"10\", \"11\", \"12\", \"13\", \"14\", \"16\", \"17\", \"18\", \"19\", \"20\", \"21\", \"22\", \"23\", \"24\", \"25\", \"26\", \"27\", \"28\", \"29\", \"30\", \"31\", \"32\", \"33\", \"34\", \"35\", \"36\", \"37\", \"38\", \"39\", \"40\", \"41\", \"42\", \"48\", \"49\"], \"mode\": \"markers\", \"name\": \"r2_score\", \"stepped\": false, \"type\": \"scatter\", \"data\": [0.9413692115730476, 0.90845632033775, 0.8963086257170764, 0.7402619946181449, 0.8924454630275609, 0.7972091332695064, 0.8408205300625007, 0.7848051064522108, 0.7593050448183594, 0.8152445839945208, 0.7871353174502482, 0.8470043083783517, 0.7231569141147223, 0.7884695449165064, 0.7247998249425006, 0.8951076882802067, 0.8488726280900822, 0.7242200756909205, 0.739471839932209, 0.8881437161199551, 0.8221558241522142, 0.8198525190787409, 0.8483600177587782, 0.8045346968119611, 0.7620190069088645, 0.7869009262781688, 0.8330642728598672, 0.834155792209434, 0.8359796086090021, 0.7502113377974915, 0.819821429893403, 0.7926259733004697, 0.7852113450784546, 0.7972091332695064, 0.7757575382187605, 0.7789198691811265, 0.7460913101630263, 0.7877776478822974, 0.7569137307574738, 0.8863734510829024, 0.8348809028432737, 0.8874761858521962, 0.9420160816766205, 0.9421332135558231]}, {\"categories\": [\"0\", \"1\", \"2\", \"3\", \"4\", \"5\", \"6\", \"7\", \"8\", \"9\", \"10\", \"11\", \"12\", \"13\", \"14\", \"16\", \"17\", \"18\", \"19\", \"20\", \"21\", \"22\", \"23\", \"24\", \"25\", \"26\", \"27\", \"28\", \"29\", \"30\", \"31\", \"32\", \"33\", \"34\", \"35\", \"36\", \"37\", \"38\", \"39\", \"40\", \"41\", \"42\", \"48\", \"49\"], \"mode\": \"lines\", \"name\": \"r2_score_max\", \"stepped\": true, \"type\": \"scatter\", \"data\": [0.9413692115730476, 0.9413692115730476, 0.9413692115730476, 0.9413692115730476, 0.9413692115730476, 0.9413692115730476, 0.9413692115730476, 0.9413692115730476, 0.9413692115730476, 0.9413692115730476, 0.9413692115730476, 0.9413692115730476, 0.9413692115730476, 0.9413692115730476, 0.9413692115730476, 0.9413692115730476, 0.9413692115730476, 0.9413692115730476, 0.9413692115730476, 0.9413692115730476, 0.9413692115730476, 0.9413692115730476, 0.9413692115730476, 0.9413692115730476, 0.9413692115730476, 0.9413692115730476, 0.9413692115730476, 0.9413692115730476, 0.9413692115730476, 0.9413692115730476, 0.9413692115730476, 0.9413692115730476, 0.9413692115730476, 0.9413692115730476, 0.9413692115730476, 0.9413692115730476, 0.9413692115730476, 0.9413692115730476, 0.9413692115730476, 0.9413692115730476, 0.9413692115730476, 0.9413692115730476, 0.9420160816766205, 0.9421332135558231]}], \"normalized_root_mean_squared_log_error\": [{\"categories\": [\"0\", \"1\", \"2\", \"3\", \"4\", \"5\", \"6\", \"7\", \"8\", \"9\", \"10\", \"11\", \"12\", \"13\", \"14\", \"16\", \"17\", \"18\", \"19\", \"20\", \"21\", \"22\", \"23\", \"24\", \"25\", \"26\", \"27\", \"28\", \"29\", \"30\", \"31\", \"32\", \"33\", \"34\", \"35\", \"36\", \"37\", \"38\", \"39\", \"40\", \"41\", \"42\", \"48\", \"49\"], \"mode\": \"markers\", \"name\": \"normalized_root_mean_squared_log_error\", \"stepped\": false, \"type\": \"scatter\", \"data\": [0.02500685140993229, 0.034341210909372644, NaN, 0.052440255531658805, NaN, 0.04592566549737162, 0.0413971680312869, 0.047639790391613854, 0.05084776520784802, 0.04362336729100706, 0.04675498873977362, 0.03991899084802171, 0.053864369231041806, 0.04778092317179636, 0.05418181502835053, NaN, 0.040977541201846976, 0.05370197238811423, 0.05177522919362102, NaN, 0.04459232093282336, 0.04311176704123299, 0.04109068870538134, 0.046128007596458645, 0.05095540461540288, 0.0473180759479338, 0.042364258994366244, 0.04162358077183729, 0.04242758017898971, 0.0528658800887651, 0.043821875873632024, 0.04669993556843858, 0.047606883746215786, 0.04592566549737162, 0.048716417990547455, 0.04775124404676153, 0.054890549272873804, 0.04729495520446579, 0.050590521238075316, 0.033485530609604595, 0.042045826766395504, NaN, 0.02464029867021077, 0.02467964297771884]}, {\"categories\": [\"0\", \"1\", \"2\", \"3\", \"4\", \"5\", \"6\", \"7\", \"8\", \"9\", \"10\", \"11\", \"12\", \"13\", \"14\", \"16\", \"17\", \"18\", \"19\", \"20\", \"21\", \"22\", \"23\", \"24\", \"25\", \"26\", \"27\", \"28\", \"29\", \"30\", \"31\", \"32\", \"33\", \"34\", \"35\", \"36\", \"37\", \"38\", \"39\", \"40\", \"41\", \"42\", \"48\", \"49\"], \"mode\": \"lines\", \"name\": \"normalized_root_mean_squared_log_error_min\", \"stepped\": true, \"type\": \"scatter\", \"data\": [0.02500685140993229, 0.02500685140993229, 0.02500685140993229, 0.02500685140993229, 0.02500685140993229, 0.02500685140993229, 0.02500685140993229, 0.02500685140993229, 0.02500685140993229, 0.02500685140993229, 0.02500685140993229, 0.02500685140993229, 0.02500685140993229, 0.02500685140993229, 0.02500685140993229, 0.02500685140993229, 0.02500685140993229, 0.02500685140993229, 0.02500685140993229, 0.02500685140993229, 0.02500685140993229, 0.02500685140993229, 0.02500685140993229, 0.02500685140993229, 0.02500685140993229, 0.02500685140993229, 0.02500685140993229, 0.02500685140993229, 0.02500685140993229, 0.02500685140993229, 0.02500685140993229, 0.02500685140993229, 0.02500685140993229, 0.02500685140993229, 0.02500685140993229, 0.02500685140993229, 0.02500685140993229, 0.02500685140993229, 0.02500685140993229, 0.02500685140993229, 0.02500685140993229, 0.02500685140993229, 0.02464029867021077, 0.02464029867021077]}], \"mean_absolute_error\": [{\"categories\": [\"0\", \"1\", \"2\", \"3\", \"4\", \"5\", \"6\", \"7\", \"8\", \"9\", \"10\", \"11\", \"12\", \"13\", \"14\", \"16\", \"17\", \"18\", \"19\", \"20\", \"21\", \"22\", \"23\", \"24\", \"25\", \"26\", \"27\", \"28\", \"29\", \"30\", \"31\", \"32\", \"33\", \"34\", \"35\", \"36\", \"37\", \"38\", \"39\", \"40\", \"41\", \"42\", \"48\", \"49\"], \"mode\": \"markers\", \"name\": \"mean_absolute_error\", \"stepped\": false, \"type\": \"scatter\", \"data\": [1673.792109631747, 2292.582037064594, 2409.1767449193508, 3781.958238800597, 2446.9587231728897, 3239.4975992139807, 2829.3095932952924, 3332.18801863034, 3682.4574490628306, 3000.679003002178, 3311.6228187616957, 2752.6016253426924, 3886.808131678972, 3317.5175586804457, 3939.424981191176, 2443.4469542498096, 2757.978317999592, 3925.9224325821524, 3725.6067820554476, 2502.047058643979, 3059.7332408011325, 3012.1162824661233, 2792.0639021041593, 3168.6781872640454, 3598.3660962205513, 3325.124068506284, 2891.940088243719, 2837.6290975226993, 2872.389984439069, 3768.2102222683375, 3011.5371002413167, 3234.2140657364534, 3373.323406801115, 3239.4975992139807, 3466.6478478003787, 3474.550802326304, 3802.1987075430843, 3287.1992226676302, 3691.8211006461556, 2270.1829067923463, 2884.6751912347313, 2505.648092177858, 1666.4340923023988, 1670.79680494268]}, {\"categories\": [\"0\", \"1\", \"2\", \"3\", \"4\", \"5\", \"6\", \"7\", \"8\", \"9\", \"10\", \"11\", \"12\", \"13\", \"14\", \"16\", \"17\", \"18\", \"19\", \"20\", \"21\", \"22\", \"23\", \"24\", \"25\", \"26\", \"27\", \"28\", \"29\", \"30\", \"31\", \"32\", \"33\", \"34\", \"35\", \"36\", \"37\", \"38\", \"39\", \"40\", \"41\", \"42\", \"48\", \"49\"], \"mode\": \"lines\", \"name\": \"mean_absolute_error_min\", \"stepped\": true, \"type\": \"scatter\", \"data\": [1673.792109631747, 1673.792109631747, 1673.792109631747, 1673.792109631747, 1673.792109631747, 1673.792109631747, 1673.792109631747, 1673.792109631747, 1673.792109631747, 1673.792109631747, 1673.792109631747, 1673.792109631747, 1673.792109631747, 1673.792109631747, 1673.792109631747, 1673.792109631747, 1673.792109631747, 1673.792109631747, 1673.792109631747, 1673.792109631747, 1673.792109631747, 1673.792109631747, 1673.792109631747, 1673.792109631747, 1673.792109631747, 1673.792109631747, 1673.792109631747, 1673.792109631747, 1673.792109631747, 1673.792109631747, 1673.792109631747, 1673.792109631747, 1673.792109631747, 1673.792109631747, 1673.792109631747, 1673.792109631747, 1673.792109631747, 1673.792109631747, 1673.792109631747, 1673.792109631747, 1673.792109631747, 1673.792109631747, 1666.4340923023988, 1666.4340923023988]}], \"root_mean_squared_log_error\": [{\"categories\": [\"0\", \"1\", \"2\", \"3\", \"4\", \"5\", \"6\", \"7\", \"8\", \"9\", \"10\", \"11\", \"12\", \"13\", \"14\", \"16\", \"17\", \"18\", \"19\", \"20\", \"21\", \"22\", \"23\", \"24\", \"25\", \"26\", \"27\", \"28\", \"29\", \"30\", \"31\", \"32\", \"33\", \"34\", \"35\", \"36\", \"37\", \"38\", \"39\", \"40\", \"41\", \"42\", \"48\", \"49\"], \"mode\": \"markers\", \"name\": \"root_mean_squared_log_error\", \"stepped\": false, \"type\": \"scatter\", \"data\": [0.11585020014482206, 0.15909384559649925, NaN, 0.24294198415460308, NaN, 0.2127615929105509, 0.19178224892193266, 0.22070268508628615, 0.23556439312093555, 0.20209564766106375, 0.21660363052024634, 0.18493424076114653, 0.249539530338965, 0.22135651633289574, 0.25101017366588707, NaN, 0.1898382276063406, 0.24878718825288476, 0.23986109111851883, NaN, 0.2065845563803313, 0.19972553755168285, 0.19036241038790963, 0.21369899091770844, 0.23606305833489163, 0.2192122662375137, 0.19626252833793667, 0.1928311599134892, 0.19655587881984185, 0.24491379137331318, 0.20301528598939936, 0.21634858358078085, 0.22055023720738412, 0.2127615929105509, 0.22569041907859339, 0.2212190207114341, 0.2542935539976028, 0.21910515388200924, 0.23437264911063688, 0.15512970263571305, 0.1947873151358332, NaN, 0.1141520572013444, 0.11433432908454355]}, {\"categories\": [\"0\", \"1\", \"2\", \"3\", \"4\", \"5\", \"6\", \"7\", \"8\", \"9\", \"10\", \"11\", \"12\", \"13\", \"14\", \"16\", \"17\", \"18\", \"19\", \"20\", \"21\", \"22\", \"23\", \"24\", \"25\", \"26\", \"27\", \"28\", \"29\", \"30\", \"31\", \"32\", \"33\", \"34\", \"35\", \"36\", \"37\", \"38\", \"39\", \"40\", \"41\", \"42\", \"48\", \"49\"], \"mode\": \"lines\", \"name\": \"root_mean_squared_log_error_min\", \"stepped\": true, \"type\": \"scatter\", \"data\": [0.11585020014482206, 0.11585020014482206, 0.11585020014482206, 0.11585020014482206, 0.11585020014482206, 0.11585020014482206, 0.11585020014482206, 0.11585020014482206, 0.11585020014482206, 0.11585020014482206, 0.11585020014482206, 0.11585020014482206, 0.11585020014482206, 0.11585020014482206, 0.11585020014482206, 0.11585020014482206, 0.11585020014482206, 0.11585020014482206, 0.11585020014482206, 0.11585020014482206, 0.11585020014482206, 0.11585020014482206, 0.11585020014482206, 0.11585020014482206, 0.11585020014482206, 0.11585020014482206, 0.11585020014482206, 0.11585020014482206, 0.11585020014482206, 0.11585020014482206, 0.11585020014482206, 0.11585020014482206, 0.11585020014482206, 0.11585020014482206, 0.11585020014482206, 0.11585020014482206, 0.11585020014482206, 0.11585020014482206, 0.11585020014482206, 0.11585020014482206, 0.11585020014482206, 0.11585020014482206, 0.1141520572013444, 0.1141520572013444]}], \"root_mean_squared_error\": [{\"categories\": [\"0\", \"1\", \"2\", \"3\", \"4\", \"5\", \"6\", \"7\", \"8\", \"9\", \"10\", \"11\", \"12\", \"13\", \"14\", \"16\", \"17\", \"18\", \"19\", \"20\", \"21\", \"22\", \"23\", \"24\", \"25\", \"26\", \"27\", \"28\", \"29\", \"30\", \"31\", \"32\", \"33\", \"34\", \"35\", \"36\", \"37\", \"38\", \"39\", \"40\", \"41\", \"42\", \"48\", \"49\"], \"mode\": \"markers\", \"name\": \"root_mean_squared_error\", \"stepped\": false, \"type\": \"scatter\", \"data\": [2735.013396008343, 3431.643242895973, 3663.8196020595833, 5809.028345051796, 3732.064198576786, 5133.4006905845035, 4547.093062966395, 5291.279374347765, 5593.107478882731, 4898.7081218663825, 5251.674875660866, 4453.698753051922, 5999.386147222302, 5234.6444190806, 5977.389041751156, 3685.4485437293392, 4429.705205275465, 5980.886793726609, 5813.617777098401, 3807.3775192828566, 4806.802530524017, 4837.7427663441, 4437.886064092742, 5036.801606870171, 5564.858928264572, 5263.342614236246, 4652.461442752988, 4639.944999928278, 4616.165541187776, 5700.976560873064, 4836.0037340415065, 5191.316474395115, 5281.052655606798, 5133.4006905845035, 5401.535044429344, 5360.030117445155, 5748.760484323674, 5249.143120933717, 5622.498244790272, 3830.959322429227, 4629.135155506573, 3818.831386923953, 2720.2367698406224, 2717.5274684976785]}, {\"categories\": [\"0\", \"1\", \"2\", \"3\", \"4\", \"5\", \"6\", \"7\", \"8\", \"9\", \"10\", \"11\", \"12\", \"13\", \"14\", \"16\", \"17\", \"18\", \"19\", \"20\", \"21\", \"22\", \"23\", \"24\", \"25\", \"26\", \"27\", \"28\", \"29\", \"30\", \"31\", \"32\", \"33\", \"34\", \"35\", \"36\", \"37\", \"38\", \"39\", \"40\", \"41\", \"42\", \"48\", \"49\"], \"mode\": \"lines\", \"name\": \"root_mean_squared_error_min\", \"stepped\": true, \"type\": \"scatter\", \"data\": [2735.013396008343, 2735.013396008343, 2735.013396008343, 2735.013396008343, 2735.013396008343, 2735.013396008343, 2735.013396008343, 2735.013396008343, 2735.013396008343, 2735.013396008343, 2735.013396008343, 2735.013396008343, 2735.013396008343, 2735.013396008343, 2735.013396008343, 2735.013396008343, 2735.013396008343, 2735.013396008343, 2735.013396008343, 2735.013396008343, 2735.013396008343, 2735.013396008343, 2735.013396008343, 2735.013396008343, 2735.013396008343, 2735.013396008343, 2735.013396008343, 2735.013396008343, 2735.013396008343, 2735.013396008343, 2735.013396008343, 2735.013396008343, 2735.013396008343, 2735.013396008343, 2735.013396008343, 2735.013396008343, 2735.013396008343, 2735.013396008343, 2735.013396008343, 2735.013396008343, 2735.013396008343, 2735.013396008343, 2720.2367698406224, 2717.5274684976785]}]}, \"metricName\": null, \"primaryMetricName\": \"normalized_root_mean_squared_error\", \"showLegend\": false}, \"run_metrics\": [{\"name\": \"experiment_status\", \"run_id\": \"AutoML_cf4c789a-3d8b-4af3-833e-10cdec390694\", \"categories\": [0, 1, 2, 3, 4, 5, 6, 7, 8, 9, 10, 11, 12, 13], \"series\": [{\"data\": [\"DatasetEvaluation\", \"FeaturesGeneration\", \"DatasetFeaturization\", \"DatasetFeaturizationCompleted\", \"DatasetCrossValidationSplit\", \"ModelSelection\", \"BestRunExplainModel\", \"ModelExplanationDataSetSetup\", \"PickSurrogateModel\", \"EngineeredFeatureExplanations\", \"EngineeredFeatureExplanations\", \"RawFeaturesExplanations\", \"RawFeaturesExplanations\", \"BestRunExplainModel\"]}]}, {\"name\": \"experiment_status_description\", \"run_id\": \"AutoML_cf4c789a-3d8b-4af3-833e-10cdec390694\", \"categories\": [0, 1, 2, 3, 4, 5, 6, 7, 8, 9, 10, 11, 12, 13], \"series\": [{\"data\": [\"Gathering dataset statistics.\", \"Generating features for the dataset.\", \"Beginning to fit featurizers and featurize the dataset.\", \"Completed fit featurizers and featurizing the dataset.\", \"Generating individually featurized CV splits.\", \"Beginning model selection.\", \"Best run model explanations started\", \"Model explanations data setup completed\", \"Choosing LightGBM as the surrogate model for explanations\", \"Computation of engineered features started\", \"Computation of engineered features completed\", \"Computation of raw features started\", \"Computation of raw features completed\", \"Best run model explanations completed\"]}]}, {\"name\": \"normalized_mean_absolute_error\", \"run_id\": \"AutoML_cf4c789a-3d8b-4af3-833e-10cdec390694\", \"categories\": [0], \"series\": [{\"data\": [0.013666378786666336]}]}, {\"name\": \"mean_absolute_percentage_error\", \"run_id\": \"AutoML_cf4c789a-3d8b-4af3-833e-10cdec390694\", \"categories\": [0], \"series\": [{\"data\": [7.949127681206731]}]}, {\"name\": \"explained_variance\", \"run_id\": \"AutoML_cf4c789a-3d8b-4af3-833e-10cdec390694\", \"categories\": [0], \"series\": [{\"data\": [0.9421792937489568]}]}, {\"name\": \"normalized_median_absolute_error\", \"run_id\": \"AutoML_cf4c789a-3d8b-4af3-833e-10cdec390694\", \"categories\": [0], \"series\": [{\"data\": [0.009390406231609727]}]}, {\"name\": \"r2_score\", \"run_id\": \"AutoML_cf4c789a-3d8b-4af3-833e-10cdec390694\", \"categories\": [0], \"series\": [{\"data\": [0.9421332135558231]}]}, {\"name\": \"normalized_root_mean_squared_log_error\", \"run_id\": \"AutoML_cf4c789a-3d8b-4af3-833e-10cdec390694\", \"categories\": [0], \"series\": [{\"data\": [0.02467964297771884]}]}, {\"name\": \"median_absolute_error\", \"run_id\": \"AutoML_cf4c789a-3d8b-4af3-833e-10cdec390694\", \"categories\": [0], \"series\": [{\"data\": [1148.0335042516788]}]}, {\"name\": \"normalized_root_mean_squared_error\", \"run_id\": \"AutoML_cf4c789a-3d8b-4af3-833e-10cdec390694\", \"categories\": [0], \"series\": [{\"data\": [0.022228172592737197]}]}, {\"name\": \"spearman_correlation\", \"run_id\": \"AutoML_cf4c789a-3d8b-4af3-833e-10cdec390694\", \"categories\": [0], \"series\": [{\"data\": [0.9758470029861218]}]}, {\"name\": \"root_mean_squared_error\", \"run_id\": \"AutoML_cf4c789a-3d8b-4af3-833e-10cdec390694\", \"categories\": [0], \"series\": [{\"data\": [2717.5274684976785]}]}, {\"name\": \"mean_absolute_error\", \"run_id\": \"AutoML_cf4c789a-3d8b-4af3-833e-10cdec390694\", \"categories\": [0], \"series\": [{\"data\": [1670.79680494268]}]}, {\"name\": \"root_mean_squared_log_error\", \"run_id\": \"AutoML_cf4c789a-3d8b-4af3-833e-10cdec390694\", \"categories\": [0], \"series\": [{\"data\": [0.11433432908454355]}]}], \"run_logs\": \"\\nRun is completed.\", \"graph\": {}, \"widget_settings\": {\"childWidgetDisplay\": \"popup\", \"send_telemetry\": false, \"log_level\": \"INFO\", \"sdk_version\": \"1.20.0\"}, \"loading\": false}"
          },
          "metadata": {}
        },
        {
          "output_type": "stream",
          "name": "stdout",
          "text": [
            "\n",
            "Current status: FeaturesGeneration. Generating features for the dataset.\n",
            "Current status: DatasetFeaturization. Beginning to fit featurizers and featurize the dataset.\n",
            "Current status: DatasetCrossValidationSplit. Generating individually featurized CV splits.\n",
            "Current status: ModelSelection. Beginning model selection.\n",
            "\n",
            "****************************************************************************************************\n",
            "DATA GUARDRAILS: \n",
            "\n",
            "TYPE:         Missing feature values imputation\n",
            "STATUS:       PASSED\n",
            "DESCRIPTION:  No feature missing values were detected in the training data.\n",
            "              Learn more about missing value imputation: https://aka.ms/AutomatedMLFeaturization\n",
            "\n",
            "****************************************************************************************************\n",
            "\n",
            "TYPE:         High cardinality feature detection\n",
            "STATUS:       PASSED\n",
            "DESCRIPTION:  Your inputs were analyzed, and no high cardinality features were detected.\n",
            "              Learn more about high cardinality feature handling: https://aka.ms/AutomatedMLFeaturization\n",
            "\n",
            "****************************************************************************************************\n",
            "\n",
            "****************************************************************************************************\n",
            "ITERATION: The iteration being evaluated.\n",
            "PIPELINE: A summary description of the pipeline being evaluated.\n",
            "DURATION: Time taken for the current iteration.\n",
            "METRIC: The result of computing score on the fitted pipeline.\n",
            "BEST: The best observed score thus far.\n",
            "****************************************************************************************************\n",
            "\n",
            " ITERATION   PIPELINE                                       DURATION      METRIC      BEST\n",
            "         5   MaxAbsScaler DecisionTree                      0:00:49       0.0420    0.0420\n",
            "         1   MaxAbsScaler XGBoostRegressor                  0:00:50       0.0281    0.0281\n",
            "         3   MaxAbsScaler DecisionTree                      0:00:56       0.0475    0.0281\n",
            "         4   MaxAbsScaler ElasticNet                        0:01:39       0.0305    0.0281\n",
            "        12   MaxAbsScaler DecisionTree                      0:01:20       0.0491    0.0281\n",
            "         0   MaxAbsScaler LightGBM                          0:06:06       0.0224    0.0224\n",
            "         9   MaxAbsScaler DecisionTree                      0:05:56       0.0401    0.0224\n",
            "        11   MaxAbsScaler DecisionTree                      0:06:17       0.0364    0.0224\n",
            "         6   MaxAbsScaler DecisionTree                      0:06:17       0.0372    0.0224\n",
            "         7   MaxAbsScaler DecisionTree                      0:06:10       0.0433    0.0224\n",
            "        10   MaxAbsScaler DecisionTree                      0:06:46       0.0430    0.0224\n",
            "         2   StandardScalerWrapper ElasticNet               0:06:50       0.0300    0.0224\n",
            "         8   MaxAbsScaler DecisionTree                      0:06:57       0.0457    0.0224\n",
            "        16   MaxAbsScaler SGD                               0:00:47       0.0301    0.0224\n",
            "        17   MaxAbsScaler DecisionTree                      0:00:49       0.0362    0.0224\n",
            "        19   MaxAbsScaler DecisionTree                      0:00:44       0.0476    0.0224\n",
            "        18   MaxAbsScaler DecisionTree                      0:01:12       0.0489    0.0224\n",
            "        21   MaxAbsScaler DecisionTree                      0:00:46       0.0393    0.0224\n",
            "        20   MaxAbsScaler SGD                               0:01:13       0.0311    0.0224\n",
            "        24   MaxAbsScaler DecisionTree                      0:00:45       0.0412    0.0224\n",
            "        25   MaxAbsScaler LightGBM                          0:00:53       0.0455    0.0224\n",
            "        26   MaxAbsScaler DecisionTree                      0:00:50       0.0431    0.0224\n",
            "        27   MaxAbsScaler DecisionTree                      0:00:53       0.0381    0.0224\n",
            "        13   StandardScalerWrapper DecisionTree             0:06:25       0.0428    0.0224\n",
            "        22   MaxAbsScaler DecisionTree                      0:02:03       0.0396    0.0224\n",
            "        23   MaxAbsScaler DecisionTree                      0:01:49       0.0363    0.0224\n",
            "        28   MaxAbsScaler RandomForest                      0:01:19       0.0380    0.0224\n",
            "        29   MaxAbsScaler DecisionTree                      0:01:25       0.0378    0.0224\n",
            "        30   MaxAbsScaler LightGBM                          0:00:59       0.0466    0.0224\n",
            "        32   MaxAbsScaler DecisionTree                      0:00:48       0.0425    0.0224\n",
            "        33   MaxAbsScaler DecisionTree                      0:00:50       0.0432    0.0224\n",
            "        34   MaxAbsScaler DecisionTree                      0:00:52       0.0420    0.0224\n",
            "        35   MaxAbsScaler LightGBM                          0:00:49       0.0442    0.0224\n",
            "        14   MaxAbsScaler DecisionTree                      0:06:51       0.0489    0.0224\n",
            "        37   MaxAbsScaler LightGBM                          0:00:49       0.0470    0.0224\n",
            "        39   MaxAbsScaler DecisionTree                      0:00:43       0.0460    0.0224\n",
            "        36   MaxAbsScaler DecisionTree                      0:01:04       0.0438    0.0224\n",
            "        38   MaxAbsScaler DecisionTree                      0:01:08       0.0429    0.0224\n",
            "        40   MaxAbsScaler LightGBM                          0:00:50       0.0313    0.0224\n",
            "        41   MaxAbsScaler DecisionTree                      0:00:46       0.0379    0.0224\n",
            "        15   MaxAbsScaler DecisionTree                      0:05:18          nan    0.0224\n",
            "        31   MaxAbsScaler DecisionTree                      0:02:27       0.0396    0.0224\n",
            "        42   MaxAbsScaler SGD                               0:00:47       0.0312    0.0224\n",
            "        43   MaxAbsScaler DecisionTree                      0:00:30          nan    0.0224\n",
            "        44   MaxAbsScaler LightGBM                          0:00:25          nan    0.0224\n",
            "        45                                                  0:00:16          nan    0.0224\n",
            "        46                                                  0:00:10          nan    0.0224\n",
            "        47                                                  0:00:07          nan    0.0224\n",
            "        48    VotingEnsemble                                0:03:40       0.0223    0.0223\n",
            "        49    StackEnsemble                                 0:04:07       0.0222    0.0222\n"
          ]
        },
        {
          "output_type": "execute_result",
          "execution_count": 7,
          "data": {
            "text/plain": "{'runId': 'AutoML_cf4c789a-3d8b-4af3-833e-10cdec390694',\n 'target': 'ud-cluster',\n 'status': 'Completed',\n 'startTimeUtc': '2021-02-25T05:29:44.931664Z',\n 'endTimeUtc': '2021-02-25T06:00:47.696002Z',\n 'properties': {'num_iterations': '1000',\n  'training_type': 'TrainFull',\n  'acquisition_function': 'EI',\n  'primary_metric': 'normalized_root_mean_squared_error',\n  'train_split': '0',\n  'acquisition_parameter': '0',\n  'num_cross_validation': '5',\n  'target': 'ud-cluster',\n  'AMLSettingsJsonString': '{\"path\":null,\"name\":\"bmw_exp\",\"subscription_id\":\"d7a31e64-085f-42e0-bb3e-c1135731e46a\",\"resource_group\":\"ud-rg\",\"workspace_name\":\"ud-ws\",\"region\":\"westus2\",\"compute_target\":\"ud-cluster\",\"spark_service\":null,\"azure_service\":\"remote\",\"many_models\":false,\"pipeline_fetch_max_batch_size\":1,\"iterations\":1000,\"primary_metric\":\"normalized_root_mean_squared_error\",\"task_type\":\"regression\",\"data_script\":null,\"validation_size\":0.0,\"n_cross_validations\":5,\"y_min\":null,\"y_max\":null,\"num_classes\":null,\"featurization\":\"auto\",\"_ignore_package_version_incompatibilities\":false,\"is_timeseries\":false,\"max_cores_per_iteration\":1,\"max_concurrent_iterations\":10,\"iteration_timeout_minutes\":null,\"mem_in_mb\":null,\"enforce_time_on_windows\":false,\"experiment_timeout_minutes\":30,\"experiment_exit_score\":null,\"whitelist_models\":null,\"blacklist_algos\":[\"TensorFlowDNN\",\"TensorFlowLinearRegressor\"],\"supported_models\":[\"ExtremeRandomTrees\",\"TensorFlowDNN\",\"SGD\",\"FastLinearRegressor\",\"KNN\",\"GradientBoosting\",\"OnlineGradientDescentRegressor\",\"XGBoostRegressor\",\"ElasticNet\",\"DecisionTree\",\"LightGBM\",\"LassoLars\",\"RandomForest\",\"TensorFlowLinearRegressor\"],\"auto_blacklist\":true,\"blacklist_samples_reached\":false,\"exclude_nan_labels\":true,\"verbosity\":20,\"_debug_log\":\"azureml_automl.log\",\"show_warnings\":false,\"model_explainability\":true,\"service_url\":null,\"sdk_url\":null,\"sdk_packages\":null,\"enable_onnx_compatible_models\":false,\"enable_split_onnx_featurizer_estimator_models\":false,\"vm_type\":\"STANDARD_D1_V2\",\"telemetry_verbosity\":20,\"send_telemetry\":true,\"enable_dnn\":false,\"scenario\":\"SDK-1.13.0\",\"environment_label\":null,\"force_text_dnn\":false,\"enable_feature_sweeping\":true,\"enable_early_stopping\":true,\"early_stopping_n_iters\":10,\"metrics\":null,\"enable_ensembling\":true,\"enable_stack_ensembling\":true,\"ensemble_iterations\":15,\"enable_tf\":false,\"enable_subsampling\":null,\"subsample_seed\":null,\"enable_nimbusml\":false,\"enable_streaming\":false,\"force_streaming\":false,\"track_child_runs\":true,\"allowed_private_models\":[],\"label_column_name\":\"price\",\"weight_column_name\":null,\"cv_split_column_names\":null,\"enable_local_managed\":false,\"_local_managed_run_id\":null,\"cost_mode\":1,\"lag_length\":0,\"metric_operation\":\"minimize\",\"preprocess\":true}',\n  'DataPrepJsonString': '{\\\\\"training_data\\\\\": \\\\\"{\\\\\\\\\\\\\"blocks\\\\\\\\\\\\\": [{\\\\\\\\\\\\\"id\\\\\\\\\\\\\": \\\\\\\\\\\\\"11a81cd4-8904-4b77-b28a-006460fb70ad\\\\\\\\\\\\\", \\\\\\\\\\\\\"type\\\\\\\\\\\\\": \\\\\\\\\\\\\"Microsoft.DPrep.GetDatastoreFilesBlock\\\\\\\\\\\\\", \\\\\\\\\\\\\"arguments\\\\\\\\\\\\\": {\\\\\\\\\\\\\"datastores\\\\\\\\\\\\\": [{\\\\\\\\\\\\\"datastoreName\\\\\\\\\\\\\": \\\\\\\\\\\\\"workspaceblobstore\\\\\\\\\\\\\", \\\\\\\\\\\\\"path\\\\\\\\\\\\\": \\\\\\\\\\\\\"UI/02-23-2021_055511_UTC/bmw.csv\\\\\\\\\\\\\", \\\\\\\\\\\\\"resourceGroup\\\\\\\\\\\\\": \\\\\\\\\\\\\"ud-rg\\\\\\\\\\\\\", \\\\\\\\\\\\\"subscription\\\\\\\\\\\\\": \\\\\\\\\\\\\"d7a31e64-085f-42e0-bb3e-c1135731e46a\\\\\\\\\\\\\", \\\\\\\\\\\\\"workspaceName\\\\\\\\\\\\\": \\\\\\\\\\\\\"ud-ws\\\\\\\\\\\\\"}]}, \\\\\\\\\\\\\"localData\\\\\\\\\\\\\": {}, \\\\\\\\\\\\\"isEnabled\\\\\\\\\\\\\": true, \\\\\\\\\\\\\"name\\\\\\\\\\\\\": null, \\\\\\\\\\\\\"annotation\\\\\\\\\\\\\": null}, {\\\\\\\\\\\\\"id\\\\\\\\\\\\\": \\\\\\\\\\\\\"1170b32b-b6ee-420f-a6f6-b70c29d914ec\\\\\\\\\\\\\", \\\\\\\\\\\\\"type\\\\\\\\\\\\\": \\\\\\\\\\\\\"Microsoft.DPrep.ParseDelimitedBlock\\\\\\\\\\\\\", \\\\\\\\\\\\\"arguments\\\\\\\\\\\\\": {\\\\\\\\\\\\\"columnHeadersMode\\\\\\\\\\\\\": 1, \\\\\\\\\\\\\"fileEncoding\\\\\\\\\\\\\": 0, \\\\\\\\\\\\\"handleQuotedLineBreaks\\\\\\\\\\\\\": false, \\\\\\\\\\\\\"preview\\\\\\\\\\\\\": false, \\\\\\\\\\\\\"separator\\\\\\\\\\\\\": \\\\\\\\\\\\\",\\\\\\\\\\\\\", \\\\\\\\\\\\\"skipRows\\\\\\\\\\\\\": 0, \\\\\\\\\\\\\"skipRowsMode\\\\\\\\\\\\\": 0}, \\\\\\\\\\\\\"localData\\\\\\\\\\\\\": {}, \\\\\\\\\\\\\"isEnabled\\\\\\\\\\\\\": true, \\\\\\\\\\\\\"name\\\\\\\\\\\\\": null, \\\\\\\\\\\\\"annotation\\\\\\\\\\\\\": null}, {\\\\\\\\\\\\\"id\\\\\\\\\\\\\": \\\\\\\\\\\\\"46e1c43a-ef71-4a7f-98a4-7c6f45f1b6fd\\\\\\\\\\\\\", \\\\\\\\\\\\\"type\\\\\\\\\\\\\": \\\\\\\\\\\\\"Microsoft.DPrep.DropColumnsBlock\\\\\\\\\\\\\", \\\\\\\\\\\\\"arguments\\\\\\\\\\\\\": {\\\\\\\\\\\\\"columns\\\\\\\\\\\\\": {\\\\\\\\\\\\\"type\\\\\\\\\\\\\": 0, \\\\\\\\\\\\\"details\\\\\\\\\\\\\": {\\\\\\\\\\\\\"selectedColumns\\\\\\\\\\\\\": [\\\\\\\\\\\\\"Path\\\\\\\\\\\\\"]}}}, \\\\\\\\\\\\\"localData\\\\\\\\\\\\\": {}, \\\\\\\\\\\\\"isEnabled\\\\\\\\\\\\\": true, \\\\\\\\\\\\\"name\\\\\\\\\\\\\": null, \\\\\\\\\\\\\"annotation\\\\\\\\\\\\\": null}, {\\\\\\\\\\\\\"id\\\\\\\\\\\\\": \\\\\\\\\\\\\"f768a626-2f3b-4763-b15c-efe24cd9c609\\\\\\\\\\\\\", \\\\\\\\\\\\\"type\\\\\\\\\\\\\": \\\\\\\\\\\\\"Microsoft.DPrep.SetColumnTypesBlock\\\\\\\\\\\\\", \\\\\\\\\\\\\"arguments\\\\\\\\\\\\\": {\\\\\\\\\\\\\"columnConversion\\\\\\\\\\\\\": [{\\\\\\\\\\\\\"column\\\\\\\\\\\\\": {\\\\\\\\\\\\\"type\\\\\\\\\\\\\": 2, \\\\\\\\\\\\\"details\\\\\\\\\\\\\": {\\\\\\\\\\\\\"selectedColumn\\\\\\\\\\\\\": \\\\\\\\\\\\\"Path\\\\\\\\\\\\\"}}, \\\\\\\\\\\\\"typeProperty\\\\\\\\\\\\\": 0}, {\\\\\\\\\\\\\"column\\\\\\\\\\\\\": {\\\\\\\\\\\\\"type\\\\\\\\\\\\\": 2, \\\\\\\\\\\\\"details\\\\\\\\\\\\\": {\\\\\\\\\\\\\"selectedColumn\\\\\\\\\\\\\": \\\\\\\\\\\\\"model\\\\\\\\\\\\\"}}, \\\\\\\\\\\\\"typeProperty\\\\\\\\\\\\\": 0}, {\\\\\\\\\\\\\"column\\\\\\\\\\\\\": {\\\\\\\\\\\\\"type\\\\\\\\\\\\\": 2, \\\\\\\\\\\\\"details\\\\\\\\\\\\\": {\\\\\\\\\\\\\"selectedColumn\\\\\\\\\\\\\": \\\\\\\\\\\\\"year\\\\\\\\\\\\\"}}, \\\\\\\\\\\\\"typeProperty\\\\\\\\\\\\\": 2}, {\\\\\\\\\\\\\"column\\\\\\\\\\\\\": {\\\\\\\\\\\\\"type\\\\\\\\\\\\\": 2, \\\\\\\\\\\\\"details\\\\\\\\\\\\\": {\\\\\\\\\\\\\"selectedColumn\\\\\\\\\\\\\": \\\\\\\\\\\\\"price\\\\\\\\\\\\\"}}, \\\\\\\\\\\\\"typeProperty\\\\\\\\\\\\\": 2}, {\\\\\\\\\\\\\"column\\\\\\\\\\\\\": {\\\\\\\\\\\\\"type\\\\\\\\\\\\\": 2, \\\\\\\\\\\\\"details\\\\\\\\\\\\\": {\\\\\\\\\\\\\"selectedColumn\\\\\\\\\\\\\": \\\\\\\\\\\\\"transmission\\\\\\\\\\\\\"}}, \\\\\\\\\\\\\"typeProperty\\\\\\\\\\\\\": 0}, {\\\\\\\\\\\\\"column\\\\\\\\\\\\\": {\\\\\\\\\\\\\"type\\\\\\\\\\\\\": 2, \\\\\\\\\\\\\"details\\\\\\\\\\\\\": {\\\\\\\\\\\\\"selectedColumn\\\\\\\\\\\\\": \\\\\\\\\\\\\"mileage\\\\\\\\\\\\\"}}, \\\\\\\\\\\\\"typeProperty\\\\\\\\\\\\\": 2}, {\\\\\\\\\\\\\"column\\\\\\\\\\\\\": {\\\\\\\\\\\\\"type\\\\\\\\\\\\\": 2, \\\\\\\\\\\\\"details\\\\\\\\\\\\\": {\\\\\\\\\\\\\"selectedColumn\\\\\\\\\\\\\": \\\\\\\\\\\\\"fuelType\\\\\\\\\\\\\"}}, \\\\\\\\\\\\\"typeProperty\\\\\\\\\\\\\": 0}, {\\\\\\\\\\\\\"column\\\\\\\\\\\\\": {\\\\\\\\\\\\\"type\\\\\\\\\\\\\": 2, \\\\\\\\\\\\\"details\\\\\\\\\\\\\": {\\\\\\\\\\\\\"selectedColumn\\\\\\\\\\\\\": \\\\\\\\\\\\\"tax\\\\\\\\\\\\\"}}, \\\\\\\\\\\\\"typeProperty\\\\\\\\\\\\\": 2}, {\\\\\\\\\\\\\"column\\\\\\\\\\\\\": {\\\\\\\\\\\\\"type\\\\\\\\\\\\\": 2, \\\\\\\\\\\\\"details\\\\\\\\\\\\\": {\\\\\\\\\\\\\"selectedColumn\\\\\\\\\\\\\": \\\\\\\\\\\\\"mpg\\\\\\\\\\\\\"}}, \\\\\\\\\\\\\"typeProperty\\\\\\\\\\\\\": 3}, {\\\\\\\\\\\\\"column\\\\\\\\\\\\\": {\\\\\\\\\\\\\"type\\\\\\\\\\\\\": 2, \\\\\\\\\\\\\"details\\\\\\\\\\\\\": {\\\\\\\\\\\\\"selectedColumn\\\\\\\\\\\\\": \\\\\\\\\\\\\"engineSize\\\\\\\\\\\\\"}}, \\\\\\\\\\\\\"typeProperty\\\\\\\\\\\\\": 3}]}, \\\\\\\\\\\\\"localData\\\\\\\\\\\\\": {}, \\\\\\\\\\\\\"isEnabled\\\\\\\\\\\\\": true, \\\\\\\\\\\\\"name\\\\\\\\\\\\\": null, \\\\\\\\\\\\\"annotation\\\\\\\\\\\\\": null}], \\\\\\\\\\\\\"inspectors\\\\\\\\\\\\\": [], \\\\\\\\\\\\\"meta\\\\\\\\\\\\\": {\\\\\\\\\\\\\"savedDatasetId\\\\\\\\\\\\\": \\\\\\\\\\\\\"edcaa9b9-58c1-4ed9-935f-df798f0d5a88\\\\\\\\\\\\\", \\\\\\\\\\\\\"datasetType\\\\\\\\\\\\\": \\\\\\\\\\\\\"tabular\\\\\\\\\\\\\", \\\\\\\\\\\\\"subscriptionId\\\\\\\\\\\\\": \\\\\\\\\\\\\"d7a31e64-085f-42e0-bb3e-c1135731e46a\\\\\\\\\\\\\", \\\\\\\\\\\\\"workspaceId\\\\\\\\\\\\\": \\\\\\\\\\\\\"11af4214-6a2f-4bdf-9658-329169c0223c\\\\\\\\\\\\\", \\\\\\\\\\\\\"workspaceLocation\\\\\\\\\\\\\": \\\\\\\\\\\\\"westus2\\\\\\\\\\\\\"}}\\\\\", \\\\\"activities\\\\\": 0}',\n  'EnableSubsampling': None,\n  'runTemplate': 'AutoML',\n  'azureml.runsource': 'automl',\n  'display_task_type': 'regression',\n  'dependencies_versions': '{\"azureml-widgets\": \"1.20.0\", \"azureml-train\": \"1.20.0\", \"azureml-train-restclients-hyperdrive\": \"1.20.0\", \"azureml-train-core\": \"1.20.0\", \"azureml-train-automl\": \"1.20.0\", \"azureml-train-automl-runtime\": \"1.20.0\", \"azureml-train-automl-client\": \"1.20.0\", \"azureml-tensorboard\": \"1.20.0\", \"azureml-telemetry\": \"1.20.0\", \"azureml-sdk\": \"1.20.0\", \"azureml-samples\": \"0+unknown\", \"azureml-pipeline\": \"1.20.0\", \"azureml-pipeline-steps\": \"1.20.0\", \"azureml-pipeline-core\": \"1.20.0\", \"azureml-opendatasets\": \"1.20.0\", \"azureml-model-management-sdk\": \"1.0.1b6.post1\", \"azureml-mlflow\": \"1.20.0.post1\", \"azureml-interpret\": \"1.20.0\", \"azureml-explain-model\": \"1.20.0\", \"azureml-defaults\": \"1.20.0\", \"azureml-dataset-runtime\": \"1.20.0\", \"azureml-dataprep\": \"2.7.3\", \"azureml-dataprep-rslex\": \"1.5.0\", \"azureml-dataprep-native\": \"27.0.0\", \"azureml-datadrift\": \"1.20.0\", \"azureml-core\": \"1.20.0\", \"azureml-contrib-services\": \"1.20.0\", \"azureml-contrib-server\": \"1.20.0\", \"azureml-contrib-reinforcementlearning\": \"1.20.0\", \"azureml-contrib-pipeline-steps\": \"1.20.0\", \"azureml-contrib-notebook\": \"1.20.0\", \"azureml-contrib-interpret\": \"1.20.0\", \"azureml-contrib-gbdt\": \"1.20.0\", \"azureml-contrib-fairness\": \"1.20.0\", \"azureml-contrib-dataset\": \"1.20.0\", \"azureml-cli-common\": \"1.20.0\", \"azureml-automl-runtime\": \"1.20.0\", \"azureml-automl-core\": \"1.20.0\", \"azureml-accel-models\": \"1.20.0\"}',\n  '_aml_system_scenario_identification': 'Remote.Parent',\n  'ClientType': 'SDK',\n  'environment_cpu_name': 'AzureML-AutoML',\n  'environment_cpu_label': 'prod',\n  'environment_gpu_name': 'AzureML-AutoML-GPU',\n  'environment_gpu_label': 'prod',\n  'root_attribution': 'automl',\n  'attribution': 'AutoML',\n  'Orchestrator': 'AutoML',\n  'CancelUri': 'https://westus2.experiments.azureml.net/jasmine/v1.0/subscriptions/d7a31e64-085f-42e0-bb3e-c1135731e46a/resourceGroups/ud-rg/providers/Microsoft.MachineLearningServices/workspaces/ud-ws/experimentids/985276a8-3d3a-4f6e-b756-19e4976b1bdf/cancel/AutoML_cf4c789a-3d8b-4af3-833e-10cdec390694',\n  'azureml.git.repository_uri': 'https://github.com/shankarpandala/nd00333-capstone.git',\n  'mlflow.source.git.repoURL': 'https://github.com/shankarpandala/nd00333-capstone.git',\n  'azureml.git.branch': 'master',\n  'mlflow.source.git.branch': 'master',\n  'azureml.git.commit': '347acc84571fa7f2b9f9a5221e1bd969607eacb0',\n  'mlflow.source.git.commit': '347acc84571fa7f2b9f9a5221e1bd969607eacb0',\n  'azureml.git.dirty': 'True',\n  'ClientSdkVersion': '1.22.0',\n  'snapshotId': '00000000-0000-0000-0000-000000000000',\n  'SetupRunId': 'AutoML_cf4c789a-3d8b-4af3-833e-10cdec390694_setup',\n  'SetupRunContainerId': 'dcid.AutoML_cf4c789a-3d8b-4af3-833e-10cdec390694_setup',\n  'FeaturizationRunJsonPath': 'featurizer_container.json',\n  'FeaturizationRunId': 'AutoML_cf4c789a-3d8b-4af3-833e-10cdec390694_featurize',\n  'ProblemInfoJsonString': '{\"dataset_num_categorical\": 0, \"is_sparse\": true, \"subsampling\": false, \"dataset_classes\": 3777, \"dataset_features\": 98, \"dataset_samples\": 10781, \"single_frequency_class_detected\": false}',\n  'ModelExplainRunId': 'AutoML_cf4c789a-3d8b-4af3-833e-10cdec390694_ModelExplain'},\n 'inputDatasets': [{'dataset': {'id': 'edcaa9b9-58c1-4ed9-935f-df798f0d5a88'}, 'consumptionDetails': {'type': 'RunInput', 'inputName': 'training_data', 'mechanism': 'Direct'}}],\n 'outputDatasets': [],\n 'logFiles': {},\n 'submittedBy': 'shankar rao pandala'}"
          },
          "metadata": {}
        }
      ],
      "execution_count": 7,
      "metadata": {
        "gather": {
          "logged": 1614232857045
        },
        "jupyter": {
          "outputs_hidden": false,
          "source_hidden": false
        },
        "nteract": {
          "transient": {
            "deleting": false
          }
        }
      }
    },
    {
      "cell_type": "markdown",
      "source": [
        "## Best Model\n",
        "\n",
        "TODO: In the cell below, get the best model from the automl experiments and display all the properties of the model.\n",
        "\n"
      ],
      "metadata": {}
    },
    {
      "cell_type": "code",
      "source": [
        "best_run, fitted_model = remote_run.get_output()\r\n",
        "print(best_run)\r\n",
        "print(fitted_model)"
      ],
      "outputs": [
        {
          "output_type": "stream",
          "name": "stderr",
          "text": [
            "WARNING:root:The version of the SDK does not match the version the model was trained on.\n",
            "WARNING:root:The consistency in the result may not be guaranteed.\n",
            "WARNING:root:Package:azureml-automl-core, training version:1.22.0, current version:1.20.0\n",
            "Package:azureml-automl-runtime, training version:1.22.0, current version:1.20.0\n",
            "Package:azureml-core, training version:1.22.0, current version:1.20.0\n",
            "Package:azureml-dataprep, training version:2.9.1, current version:2.7.3\n",
            "Package:azureml-dataprep-native, training version:29.0.0, current version:27.0.0\n",
            "Package:azureml-dataprep-rslex, training version:1.7.0, current version:1.5.0\n",
            "Package:azureml-dataset-runtime, training version:1.22.0, current version:1.20.0\n",
            "Package:azureml-defaults, training version:1.22.0, current version:1.20.0\n",
            "Package:azureml-interpret, training version:1.22.0, current version:1.20.0\n",
            "Package:azureml-pipeline-core, training version:1.22.0, current version:1.20.0\n",
            "Package:azureml-telemetry, training version:1.22.0, current version:1.20.0\n",
            "Package:azureml-train-automl-client, training version:1.22.0, current version:1.20.0\n",
            "Package:azureml-train-automl-runtime, training version:1.22.0, current version:1.20.0\n",
            "WARNING:root:Please ensure the version of your local conda dependencies match the version on which your model was trained in order to properly retrieve your model.\n"
          ]
        },
        {
          "output_type": "stream",
          "name": "stdout",
          "text": [
            "Run(Experiment: bmw_exp,\n",
            "Id: AutoML_cf4c789a-3d8b-4af3-833e-10cdec390694_49,\n",
            "Type: azureml.scriptrun,\n",
            "Status: Completed)\n",
            "RegressionPipeline(pipeline=Pipeline(memory=None,\n",
            "                                     steps=[('datatransformer',\n",
            "                                             DataTransformer(enable_dnn=None,\n",
            "                                                             enable_feature_sweeping=None,\n",
            "                                                             feature_sweeping_config=None,\n",
            "                                                             feature_sweeping_timeout=None,\n",
            "                                                             featurization_config=None,\n",
            "                                                             force_text_dnn=None,\n",
            "                                                             is_cross_validation=None,\n",
            "                                                             is_onnx_compatible=None,\n",
            "                                                             logger=None,\n",
            "                                                             observer=None,\n",
            "                                                             task=None,\n",
            "                                                             working_dir=None)),\n",
            "                                            ('sta...\n",
            "                                                                                                                  validation_fraction=0.1,\n",
            "                                                                                                                  verbose=0,\n",
            "                                                                                                                  warm_start=False))],\n",
            "                                                                                             verbose=False))],\n",
            "                                                                    meta_learner=ElasticNetCV(alphas=None,\n",
            "                                                                                              copy_X=True,\n",
            "                                                                                              cv=None,\n",
            "                                                                                              eps=0.001,\n",
            "                                                                                              fit_intercept=True,\n",
            "                                                                                              l1_ratio=0.5,\n",
            "                                                                                              max_iter=1000,\n",
            "                                                                                              n_alphas=100,\n",
            "                                                                                              n_jobs=None,\n",
            "                                                                                              normalize=False,\n",
            "                                                                                              positive=False,\n",
            "                                                                                              precompute='auto',\n",
            "                                                                                              random_state=None,\n",
            "                                                                                              selection='cyclic',\n",
            "                                                                                              tol=0.0001,\n",
            "                                                                                              verbose=0),\n",
            "                                                                    training_cv_folds=5))],\n",
            "                                     verbose=False),\n",
            "                   stddev=None)\n"
          ]
        }
      ],
      "execution_count": 8,
      "metadata": {
        "gather": {
          "logged": 1614232874357
        },
        "jupyter": {
          "outputs_hidden": false,
          "source_hidden": false
        },
        "nteract": {
          "transient": {
            "deleting": false
          }
        }
      }
    },
    {
      "cell_type": "code",
      "source": [
        "#TODO: Save the best model\r\n",
        "best_run.register_model(model_name='automl_model',model_path='/outputs')"
      ],
      "outputs": [
        {
          "output_type": "execute_result",
          "execution_count": 9,
          "data": {
            "text/plain": "Model(workspace=Workspace.create(name='ud-ws', subscription_id='d7a31e64-085f-42e0-bb3e-c1135731e46a', resource_group='ud-rg'), name=automl_model, id=automl_model:2, version=2, tags={}, properties={})"
          },
          "metadata": {}
        }
      ],
      "execution_count": 9,
      "metadata": {
        "gather": {
          "logged": 1614232874895
        },
        "jupyter": {
          "outputs_hidden": false,
          "source_hidden": false
        },
        "nteract": {
          "transient": {
            "deleting": false
          }
        }
      }
    },
    {
      "cell_type": "markdown",
      "source": [
        "## Model Deployment\n",
        "\n",
        "Remember you have to deploy only one of the two models you trained.. Perform the steps in the rest of this notebook only if you wish to deploy this model.\n",
        "\n",
        "TODO: In the cell below, register the model, create an inference config and deploy the model as a web service."
      ],
      "metadata": {}
    },
    {
      "cell_type": "code",
      "source": [
        "model_name = best_run.properties['model_name']\r\n",
        "model = remote_run.register_model(model_name = model_name,\r\n",
        "                                  description = 'Automl model')\r\n",
        "\r\n",
        "print('Name:', model.name)\r\n",
        "\r\n",
        "env = best_run.get_environment()\r\n",
        "\r\n",
        "script_name = 'score.py'\r\n",
        "\r\n",
        "\r\n",
        "best_run.download_file('outputs/scoring_file_v_1_0_0.py', 'score.py')"
      ],
      "outputs": [
        {
          "output_type": "stream",
          "name": "stdout",
          "text": [
            "Name: AutoMLcf4c789a349\n"
          ]
        }
      ],
      "execution_count": 10,
      "metadata": {
        "gather": {
          "logged": 1614232875148
        },
        "jupyter": {
          "outputs_hidden": false,
          "source_hidden": false
        },
        "nteract": {
          "transient": {
            "deleting": false
          }
        }
      }
    },
    {
      "cell_type": "markdown",
      "source": [
        "TODO: In the cell below, send a request to the web service you deployed to test it."
      ],
      "metadata": {
        "collapsed": true,
        "gather": {
          "logged": 1598431657736
        },
        "jupyter": {
          "outputs_hidden": false,
          "source_hidden": false
        },
        "nteract": {
          "transient": {
            "deleting": false
          }
        }
      }
    },
    {
      "cell_type": "code",
      "source": [
        "inference_config = InferenceConfig(entry_script= script_name, environment=env)\r\n",
        "\r\n",
        "aci_config = AciWebservice.deploy_configuration(cpu_cores=1, memory_gb=1, enable_app_insights=True)\r\n",
        "aci_service_name='capstone-aci'\r\n",
        "service = Model.deploy(ws, aci_service_name, [model], inference_config, aci_config)\r\n",
        "service.wait_for_deployment(show_output=True)\r\n",
        "\r\n",
        "print(service.state)\r\n",
        "url = service.scoring_uri\r\n",
        "print(url)"
      ],
      "outputs": [
        {
          "output_type": "stream",
          "name": "stdout",
          "text": [
            "Tips: You can try get_logs(): https://aka.ms/debugimage#dockerlog or local deployment: https://aka.ms/debugimage#debug-locally to debug if deployment takes longer than 10 minutes.\n",
            "Running......................................\n",
            "Succeeded\n",
            "ACI service creation operation finished, operation \"Succeeded\"\n",
            "Healthy\n",
            "http://97a8f2bf-41fb-48ab-8f36-7c20d0abb018.westus2.azurecontainer.io/score\n"
          ]
        }
      ],
      "execution_count": 11,
      "metadata": {
        "gather": {
          "logged": 1614233072775
        },
        "jupyter": {
          "outputs_hidden": false,
          "source_hidden": false
        },
        "nteract": {
          "transient": {
            "deleting": false
          }
        }
      }
    },
    {
      "cell_type": "code",
      "source": [
        "import urllib.request\r\n",
        "import json\r\n",
        "import os\r\n",
        "import ssl\r\n",
        "\r\n",
        "def allowSelfSignedHttps(allowed):\r\n",
        "    # bypass the server certificate verification on client side\r\n",
        "    if allowed and not os.environ.get('PYTHONHTTPSVERIFY', '') and getattr(ssl, '_create_unverified_context', None):\r\n",
        "        ssl._create_default_https_context = ssl._create_unverified_context\r\n",
        "\r\n",
        "allowSelfSignedHttps(True) # this line is needed if you use self-signed certificate in your scoring service.\r\n",
        "\r\n",
        "data = {\r\n",
        "    \"data\":\r\n",
        "    [\r\n",
        "        {\r\n",
        "            'model': \"example_value\",\r\n",
        "            'year': \"0\",\r\n",
        "            'transmission': \"example_value\",\r\n",
        "            'mileage': \"0\",\r\n",
        "            'fuelType': \"example_value\",\r\n",
        "            'tax': \"0\",\r\n",
        "            'mpg': \"0\",\r\n",
        "            'engineSize': \"0\",\r\n",
        "        },\r\n",
        "    ],\r\n",
        "}\r\n",
        "\r\n",
        "body = str.encode(json.dumps(data))\r\n",
        "\r\n",
        "url = 'http://97a8f2bf-41fb-48ab-8f36-7c20d0abb018.westus2.azurecontainer.io/score'\r\n",
        "api_key = '' # Replace this with the API key for the web service\r\n",
        "headers = {'Content-Type':'application/json', 'Authorization':('Bearer '+ api_key)}\r\n",
        "\r\n",
        "req = urllib.request.Request(url, body, headers)\r\n",
        "\r\n",
        "try:\r\n",
        "    response = urllib.request.urlopen(req)\r\n",
        "\r\n",
        "    result = response.read()\r\n",
        "    print(result)\r\n",
        "except urllib.error.HTTPError as error:\r\n",
        "    print(\"The request failed with status code: \" + str(error.code))\r\n",
        "\r\n",
        "    # Print the headers - they include the requert ID and the timestamp, which are useful for debugging the failure\r\n",
        "    print(error.info())\r\n",
        "    print(json.loads(error.read().decode(\"utf8\", 'ignore')))"
      ],
      "outputs": [
        {
          "output_type": "stream",
          "name": "stdout",
          "text": [
            "b'\"{\\\\\"result\\\\\": [26464.46773688202]}\"'\n"
          ]
        }
      ],
      "execution_count": 14,
      "metadata": {
        "collapsed": true,
        "jupyter": {
          "source_hidden": false,
          "outputs_hidden": false
        },
        "nteract": {
          "transient": {
            "deleting": false
          }
        },
        "gather": {
          "logged": 1614233896541
        }
      }
    },
    {
      "cell_type": "markdown",
      "source": [
        "TODO: In the cell below, print the logs of the web service and delete the service"
      ],
      "metadata": {
        "collapsed": true,
        "gather": {
          "logged": 1598432765711
        },
        "jupyter": {
          "outputs_hidden": false,
          "source_hidden": false
        },
        "nteract": {
          "transient": {
            "deleting": false
          }
        }
      }
    },
    {
      "cell_type": "code",
      "source": [
        "service.get_logs()"
      ],
      "outputs": [
        {
          "output_type": "execute_result",
          "execution_count": 13,
          "data": {
            "text/plain": "'2021-02-25T06:04:08,891396200+00:00 - rsyslog/run \\n2021-02-25T06:04:08,891541400+00:00 - gunicorn/run \\n2021-02-25T06:04:08,890281700+00:00 - iot-server/run \\n2021-02-25T06:04:08,976438100+00:00 - nginx/run \\n/usr/sbin/nginx: /azureml-envs/azureml_09ff55f546b313bb1ab136a466214499/lib/libcrypto.so.1.0.0: no version information available (required by /usr/sbin/nginx)\\n/usr/sbin/nginx: /azureml-envs/azureml_09ff55f546b313bb1ab136a466214499/lib/libcrypto.so.1.0.0: no version information available (required by /usr/sbin/nginx)\\n/usr/sbin/nginx: /azureml-envs/azureml_09ff55f546b313bb1ab136a466214499/lib/libssl.so.1.0.0: no version information available (required by /usr/sbin/nginx)\\n/usr/sbin/nginx: /azureml-envs/azureml_09ff55f546b313bb1ab136a466214499/lib/libssl.so.1.0.0: no version information available (required by /usr/sbin/nginx)\\n/usr/sbin/nginx: /azureml-envs/azureml_09ff55f546b313bb1ab136a466214499/lib/libssl.so.1.0.0: no version information available (required by /usr/sbin/nginx)\\nrsyslogd: /azureml-envs/azureml_09ff55f546b313bb1ab136a466214499/lib/libuuid.so.1: no version information available (required by rsyslogd)\\nEdgeHubConnectionString and IOTEDGE_IOTHUBHOSTNAME are not set. Exiting...\\n2021-02-25T06:04:10,832118200+00:00 - iot-server/finish 1 0\\n2021-02-25T06:04:10,844200500+00:00 - Exit code 1 is normal. Not restarting iot-server.\\nStarting gunicorn 19.9.0\\nListening at: http://127.0.0.1:31311 (70)\\nUsing worker: sync\\nworker timeout is set to 300\\nBooting worker with pid: 99\\nSPARK_HOME not set. Skipping PySpark Initialization.\\nGenerating new fontManager, this may take some time...\\nInitializing logger\\n2021-02-25 06:04:16,865 | root | INFO | Starting up app insights client\\n2021-02-25 06:04:16,866 | root | INFO | Starting up request id generator\\n2021-02-25 06:04:16,866 | root | INFO | Starting up app insight hooks\\n2021-02-25 06:04:16,866 | root | INFO | Invoking user\\'s init function\\n2021-02-25 06:04:28,800 | root | INFO | Users\\'s init has completed successfully\\n2021-02-25 06:04:28,855 | root | INFO | Skipping middleware: dbg_model_info as it\\'s not enabled.\\n2021-02-25 06:04:28,855 | root | INFO | Skipping middleware: dbg_resource_usage as it\\'s not enabled.\\n2021-02-25 06:04:28,861 | root | INFO | Scoring timeout is found from os.environ: 60000 ms\\n2021-02-25 06:04:28,880 | root | INFO | 200\\n127.0.0.1 - - [25/Feb/2021:06:04:28 +0000] \"GET /swagger.json HTTP/1.0\" 200 2458 \"-\" \"Go-http-client/1.1\"\\n2021-02-25 06:04:31,226 | root | INFO | 200\\n127.0.0.1 - - [25/Feb/2021:06:04:31 +0000] \"GET /swagger.json HTTP/1.0\" 200 2458 \"-\" \"Go-http-client/1.1\"\\n2021-02-25 06:14:29,912 | root | INFO | 200\\n127.0.0.1 - - [25/Feb/2021:06:14:29 +0000] \"GET /swagger.json HTTP/1.0\" 200 2458 \"-\" \"Go-http-client/1.1\"\\n2021-02-25 06:14:35,262 | root | INFO | 200\\n127.0.0.1 - - [25/Feb/2021:06:14:35 +0000] \"GET /swagger.json HTTP/1.0\" 200 2458 \"-\" \"Go-http-client/1.1\"\\n'"
          },
          "metadata": {}
        }
      ],
      "execution_count": 13,
      "metadata": {
        "jupyter": {
          "outputs_hidden": false,
          "source_hidden": false
        },
        "nteract": {
          "transient": {
            "deleting": false
          }
        },
        "gather": {
          "logged": 1614233817777
        }
      }
    },
    {
      "cell_type": "code",
      "source": [
        "service.delete()"
      ],
      "outputs": [],
      "execution_count": 15,
      "metadata": {
        "collapsed": true,
        "jupyter": {
          "source_hidden": false,
          "outputs_hidden": false
        },
        "nteract": {
          "transient": {
            "deleting": false
          }
        },
        "gather": {
          "logged": 1614236446519
        }
      }
    },
    {
      "cell_type": "code",
      "source": [],
      "outputs": [],
      "execution_count": null,
      "metadata": {
        "collapsed": true,
        "jupyter": {
          "source_hidden": false,
          "outputs_hidden": false
        },
        "nteract": {
          "transient": {
            "deleting": false
          }
        }
      }
    }
  ],
  "metadata": {
    "kernel_info": {
      "name": "python3"
    },
    "kernelspec": {
      "name": "python3",
      "language": "python",
      "display_name": "Python 3"
    },
    "language_info": {
      "name": "python",
      "version": "3.6.9",
      "mimetype": "text/x-python",
      "codemirror_mode": {
        "name": "ipython",
        "version": 3
      },
      "pygments_lexer": "ipython3",
      "nbconvert_exporter": "python",
      "file_extension": ".py"
    },
    "nteract": {
      "version": "nteract-front-end@1.0.0"
    }
  },
  "nbformat": 4,
  "nbformat_minor": 2
}